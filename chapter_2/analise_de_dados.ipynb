{
  "cells": [
    {
      "cell_type": "code",
      "execution_count": 1,
      "metadata": {
        "trusted": true
      },
      "outputs": [
        {
          "data": {
            "text/plain": [
              "[<matplotlib.lines.Line2D at 0x7f3df5a6d2e0>]"
            ]
          },
          "execution_count": 1,
          "metadata": {},
          "output_type": "execute_result"
        },
        {
          "data": {
            "image/png": "[encoded data removed]",
            "text/plain": [
              "<Figure size 432x288 with 1 Axes>"
            ]
          },
          "metadata": {
            "needs_background": "light"
          },
          "output_type": "display_data"
        }
      ],
      "source": [
        "%matplotlib inline\n",
        "\n",
        "import matplotlib.pyplot as plt\n",
        "import numpy as np\n",
        "\n",
        "plt.plot(np.random.randn(50).cumsum())"
      ]
    },
    {
      "cell_type": "code",
      "execution_count": 2,
      "metadata": {
        "trusted": true
      },
      "outputs": [
        {
          "data": {
            "text/plain": [
              "[1, 2, 3, 4]"
            ]
          },
          "execution_count": 2,
          "metadata": {},
          "output_type": "execute_result"
        }
      ],
      "source": [
        "a = [1, 2, 3]\n",
        "b = a\n",
        "\n",
        "a.append(4)\n",
        "\n",
        "b"
      ]
    },
    {
      "cell_type": "code",
      "execution_count": 3,
      "metadata": {
        "trusted": true
      },
      "outputs": [
        {
          "data": {
            "text/plain": [
              "[1, 2, 3, 4]"
            ]
          },
          "execution_count": 3,
          "metadata": {},
          "output_type": "execute_result"
        }
      ],
      "source": [
        "def append_element(some_list, element):\n",
        "    some_list.append(element)\n",
        "    \n",
        "data = [1, 2, 3]\n",
        "\n",
        "append_element(data, 4)\n",
        "\n",
        "data"
      ]
    },
    {
      "cell_type": "code",
      "execution_count": 1,
      "metadata": {},
      "outputs": [
        {
          "name": "stdout",
          "output_type": "stream",
          "text": [
            "<class 'int'>\n",
            "<class 'str'>\n"
          ]
        }
      ],
      "source": [
        "a = 5\n",
        "print(type(a))\n",
        "\n",
        "a = 'foo'\n",
        "print(type(a))"
      ]
    },
    {
      "cell_type": "code",
      "execution_count": 5,
      "metadata": {},
      "outputs": [
        {
          "name": "stdout",
          "output_type": "stream",
          "text": [
            "4\n"
          ]
        }
      ],
      "source": [
        "def add_numbers(a, b):\n",
        "    \"\"\"\n",
        "    Add two numbers together\n",
        "\n",
        "    Returns\n",
        "\n",
        "    -------\n",
        "\n",
        "    the_sum: type of arguments\n",
        "    \"\"\"\n",
        "\n",
        "    return a + b\n",
        "\n",
        "\n",
        "print(f'{add_numbers(1, 3)}')"
      ]
    },
    {
      "cell_type": "code",
      "execution_count": 6,
      "metadata": {},
      "outputs": [
        {
          "name": "stdout",
          "output_type": "stream",
          "text": [
            "{0: -1.3015453835914446, 1: -0.6267624137710393, 2: -1.0629382971390495, 3: 1.8169760387665372, 4: 1.7880430693107892, 5: -0.4072275990044226, 6: 1.7255479502139681}\n"
          ]
        }
      ],
      "source": [
        "import numpy as np\n",
        "\n",
        "data = {i: np.random.randn() for i in range(7)}\n",
        "\n",
        "print(data)"
      ]
    },
    {
      "cell_type": "code",
      "execution_count": 8,
      "metadata": {},
      "outputs": [
        {
          "data": {
            "text/plain": [
              "1.4666666666666666"
            ]
          },
          "execution_count": 8,
          "metadata": {},
          "output_type": "execute_result"
        }
      ],
      "source": [
        "def f(x, y, z):\n",
        "    return (x+y)/z\n",
        "\n",
        "\n",
        "a = 5\n",
        "b = 6\n",
        "c = 7.5\n",
        "\n",
        "result = f(a, b, c)\n",
        "\n",
        "result #no ipython nao precisa de print, mas pode colocar se quiser"
      ]
    },
    {
      "cell_type": "code",
      "execution_count": 10,
      "metadata": {},
      "outputs": [
        {
          "ename": "TypeError",
          "evalue": "can only concatenate str (not \"int\") to str",
          "output_type": "error",
          "traceback": [
            "\u001b[0;31m---------------------------------------------------------------------------\u001b[0m",
            "\u001b[0;31mTypeError\u001b[0m                                 Traceback (most recent call last)",
            "\u001b[1;32m/home/jonas/Projetos/python/analise_de_dados/analise_de_dados.ipynb Cell 8\u001b[0m in \u001b[0;36m<cell line: 1>\u001b[0;34m()\u001b[0m\n\u001b[0;32m----> <a href='vscode-notebook-cell:/home/jonas/Projetos/python/analise_de_dados/analise_de_dados.ipynb#ch0000007?line=0'>1</a>\u001b[0m \u001b[39mprint\u001b[39m(\u001b[39m'\u001b[39;49m\u001b[39m5\u001b[39;49m\u001b[39m'\u001b[39;49m \u001b[39m+\u001b[39;49m \u001b[39m5\u001b[39;49m)\n",
            "\u001b[0;31mTypeError\u001b[0m: can only concatenate str (not \"int\") to str"
          ]
        }
      ],
      "source": [
        "print('5' + 5) #error"
      ]
    },
    {
      "cell_type": "code",
      "execution_count": 12,
      "metadata": {},
      "outputs": [
        {
          "name": "stdout",
          "output_type": "stream",
          "text": [
            "a is <class 'float'>, b is <class 'int'>\n",
            "2.25\n"
          ]
        }
      ],
      "source": [
        "a = 4.5\n",
        "b = 2\n",
        "\n",
        "print('a is {0}, b is {1}'.format(type(a), type(b)))\n",
        "\n",
        "print(a / b)"
      ]
    },
    {
      "cell_type": "code",
      "execution_count": 16,
      "metadata": {},
      "outputs": [
        {
          "name": "stdout",
          "output_type": "stream",
          "text": [
            "True\n"
          ]
        }
      ],
      "source": [
        "a = 5\n",
        "\n",
        "print(isinstance(a, int))"
      ]
    },
    {
      "cell_type": "code",
      "execution_count": 30,
      "metadata": {},
      "outputs": [
        {
          "name": "stdout",
          "output_type": "stream",
          "text": [
            "True\n",
            "True\n"
          ]
        },
        {
          "data": {
            "text/plain": [
              "<function str.split(sep=None, maxsplit=-1)>"
            ]
          },
          "execution_count": 30,
          "metadata": {},
          "output_type": "execute_result"
        }
      ],
      "source": [
        "a = 5\n",
        "b = 4.5\n",
        "\n",
        "print(isinstance(a, (int, float)))\n",
        "print(isinstance(b, (int, float)))\n",
        "\n",
        "text = 'foo'\n",
        "\n",
        "getattr(text, 'split')\n"
      ]
    },
    {
      "cell_type": "code",
      "execution_count": 1,
      "metadata": {},
      "outputs": [
        {
          "data": {
            "text/plain": [
              "<function str.split(sep=None, maxsplit=-1)>"
            ]
          },
          "execution_count": 1,
          "metadata": {},
          "output_type": "execute_result"
        }
      ],
      "source": [
        "a = 'foo'\n",
        "\n",
        "getattr(a, 'split')"
      ]
    },
    {
      "cell_type": "code",
      "execution_count": 15,
      "metadata": {},
      "outputs": [
        {
          "name": "stdout",
          "output_type": "stream",
          "text": [
            "True\n",
            "True\n",
            "False\n",
            "<class 'list'>\n",
            "['nome', 'idade']\n"
          ]
        }
      ],
      "source": [
        "def is_iterable(obj):\n",
        "    try:\n",
        "        iter(obj)\n",
        "        return True\n",
        "\n",
        "    except TypeError: # não é iterável\n",
        "        return False\n",
        "\n",
        "print(is_iterable('a string'))\n",
        "\n",
        "print(is_iterable([1, 2, 3]))\n",
        "\n",
        "print(is_iterable(5))\n",
        "\n",
        "x = {\n",
        "    'nome': 'Jonas',\n",
        "    'idade': 35\n",
        "}\n",
        "\n",
        "if not isinstance(x, list) and is_iterable(x):\n",
        "    x = list(x)\n",
        "\n",
        "print(type(x))\n",
        "\n",
        "print(x)\n"
      ]
    },
    {
      "cell_type": "markdown",
      "metadata": {},
      "source": [
        "# Importações\n",
        "\n",
        "*Importando modulos*"
      ]
    },
    {
      "cell_type": "code",
      "execution_count": 5,
      "metadata": {},
      "outputs": [
        {
          "name": "stdout",
          "output_type": "stream",
          "text": [
            "7\n",
            "3.14159\n"
          ]
        }
      ],
      "source": [
        "import some_module\n",
        "\n",
        "result = some_module.f(5)\n",
        "\n",
        "pi = some_module.PI\n",
        "\n",
        "print(result)\n",
        "\n",
        "print(pi)"
      ]
    },
    {
      "cell_type": "code",
      "execution_count": 6,
      "metadata": {},
      "outputs": [
        {
          "name": "stdout",
          "output_type": "stream",
          "text": [
            "8.14159\n"
          ]
        }
      ],
      "source": [
        "from some_module import f, g, PI\n",
        "\n",
        "result = g(5, PI)\n",
        "\n",
        "print(result)"
      ]
    },
    {
      "cell_type": "code",
      "execution_count": 7,
      "metadata": {},
      "outputs": [
        {
          "name": "stdout",
          "output_type": "stream",
          "text": [
            "5.14159 9.14159\n"
          ]
        }
      ],
      "source": [
        "import some_module as sm\n",
        "from some_module import PI as pi, g as gf\n",
        "\n",
        "r1 = sm.f(pi)\n",
        "r2 = gf(6, pi)\n",
        "\n",
        "print(r1, r2)"
      ]
    },
    {
      "cell_type": "code",
      "execution_count": 10,
      "metadata": {},
      "outputs": [
        {
          "name": "stdout",
          "output_type": "stream",
          "text": [
            "-2\n",
            "33.5\n",
            "False\n"
          ]
        }
      ],
      "source": [
        "print(5 - 7)\n",
        "print(12 + 21.5)\n",
        "print(5 <= 2)"
      ]
    },
    {
      "cell_type": "markdown",
      "metadata": {},
      "source": [
        "# Binary operators and comparisons\n",
        "\n",
        "### Tests with binary operators and comparisons\n",
        "\n",
        "*Use of **is** and **is not***\n"
      ]
    },
    {
      "cell_type": "code",
      "execution_count": 13,
      "metadata": {},
      "outputs": [
        {
          "name": "stdout",
          "output_type": "stream",
          "text": [
            "True\n",
            "True\n",
            "True\n"
          ]
        }
      ],
      "source": [
        "a = [1, 2, 3]\n",
        "\n",
        "b = a\n",
        "\n",
        "c = list(a)\n",
        "\n",
        "print(a is b)\n",
        "\n",
        "print(a is not c)\n",
        "\n",
        "print(a == c)"
      ]
    },
    {
      "cell_type": "markdown",
      "metadata": {},
      "source": [
        "*Checking if a variable is **None***"
      ]
    },
    {
      "cell_type": "code",
      "execution_count": 15,
      "metadata": {},
      "outputs": [
        {
          "name": "stdout",
          "output_type": "stream",
          "text": [
            "True\n"
          ]
        }
      ],
      "source": [
        "a = None\n",
        "\n",
        "print(a is None)\n"
      ]
    },
    {
      "cell_type": "markdown",
      "metadata": {},
      "source": [
        "*List of binary operators*"
      ]
    },
    {
      "cell_type": "code",
      "execution_count": 45,
      "metadata": {},
      "outputs": [
        {
          "name": "stdout",
          "output_type": "stream",
          "text": [
            "4\n",
            "3\n",
            "21\n",
            "3.0\n",
            "3\n",
            "1728\n",
            "True\n",
            "True\n",
            "False\n",
            "True\n",
            "False\n",
            "True\n",
            "False\n",
            "True\n",
            "True\n",
            "False\n",
            "True True\n",
            "True False\n",
            "True True\n",
            "False True\n",
            "True\n",
            "False\n",
            "False\n"
          ]
        }
      ],
      "source": [
        "print(1 + 3) #sum\n",
        "print(6 - 3) #subtraction\n",
        "print(7 * 3) #multiplication\n",
        "print(9 / 3) #division\n",
        "print(10 // 3) #floor division\n",
        "print(12 ** 3) #raises the potency\n",
        "print((1 + 2 == 3) & (1 + 2 == 3)) #comparison bit a bit AND (bitwise)\n",
        "\n",
        "print((1 + 2 == 0) | (1 + 2 == 3)) #floor division\n",
        "print((1 + 2 == 0) | (1 + 2 == 21)) #floor division\n",
        "\n",
        "print(False ^ True)\n",
        "print(False ^ False)\n",
        "print(True ^ False)\n",
        "print(True ^ True)\n",
        "print(10 == 10)\n",
        "\n",
        "print(10 != 20)\n",
        "print(20 != 20)\n",
        "\n",
        "print(2 < 5, 2 <= 2)\n",
        "print(2 < 5, 2 <= 1)\n",
        "\n",
        "print(6 > 5, 6 >= 2)\n",
        "print(2 > 5, 2 >= 2)\n",
        "\n",
        "a = [1, 2, 3]\n",
        "\n",
        "b = a\n",
        "\n",
        "print(a is b)\n",
        "print(a is not b)\n",
        "print(list(a) is b)\n"
      ]
    }
  ],
  "metadata": {
    "kernelspec": {
      "display_name": "Python 3.8.10 ('env': venv)",
      "language": "python",
      "name": "python3"
    },
    "language_info": {
      "codemirror_mode": {
        "name": "ipython",
        "version": 3
      },
      "file_extension": ".py",
      "mimetype": "text/x-python",
      "name": "python",
      "nbconvert_exporter": "python",
      "pygments_lexer": "ipython3",
      "version": "3.8.10"
    },
    "vscode": {
      "interpreter": {
        "hash": "37a2f52c0de4fac81a0bf58b0010a52fc5b6297355ab373e5af9e6d22cada09b"
      }
    }
  },
  "nbformat": 4,
  "nbformat_minor": 4
}
