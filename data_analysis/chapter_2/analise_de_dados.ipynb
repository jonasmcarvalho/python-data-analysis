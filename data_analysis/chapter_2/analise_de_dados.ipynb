{
  "cells": [
    {
      "cell_type": "code",
      "execution_count": 1,
      "metadata": {
        "trusted": true
      },
      "outputs": [
        {
          "data": {
            "text/plain": [
              "[<matplotlib.lines.Line2D at 0x7f3df5a6d2e0>]"
            ]
          },
          "execution_count": 1,
          "metadata": {},
          "output_type": "execute_result"
        },
        {
          "data": {
            "image/png": "[encoded data removed]",
            "text/plain": [
              "<Figure size 432x288 with 1 Axes>"
            ]
          },
          "metadata": {
            "needs_background": "light"
          },
          "output_type": "display_data"
        }
      ],
      "source": [
        "%matplotlib inline\n",
        "\n",
        "import matplotlib.pyplot as plt\n",
        "import numpy as np\n",
        "\n",
        "plt.plot(np.random.randn(50).cumsum())"
      ]
    },
    {
      "cell_type": "code",
      "execution_count": 2,
      "metadata": {
        "trusted": true
      },
      "outputs": [
        {
          "data": {
            "text/plain": [
              "[1, 2, 3, 4]"
            ]
          },
          "execution_count": 2,
          "metadata": {},
          "output_type": "execute_result"
        }
      ],
      "source": [
        "a = [1, 2, 3]\n",
        "b = a\n",
        "\n",
        "a.append(4)\n",
        "\n",
        "b"
      ]
    },
    {
      "cell_type": "code",
      "execution_count": 3,
      "metadata": {
        "trusted": true
      },
      "outputs": [
        {
          "data": {
            "text/plain": [
              "[1, 2, 3, 4]"
            ]
          },
          "execution_count": 3,
          "metadata": {},
          "output_type": "execute_result"
        }
      ],
      "source": [
        "def append_element(some_list, element):\n",
        "    some_list.append(element)\n",
        "    \n",
        "data = [1, 2, 3]\n",
        "\n",
        "append_element(data, 4)\n",
        "\n",
        "data"
      ]
    },
    {
      "cell_type": "code",
      "execution_count": 1,
      "metadata": {},
      "outputs": [
        {
          "name": "stdout",
          "output_type": "stream",
          "text": [
            "<class 'int'>\n",
            "<class 'str'>\n"
          ]
        }
      ],
      "source": [
        "a = 5\n",
        "print(type(a))\n",
        "\n",
        "a = 'foo'\n",
        "print(type(a))"
      ]
    },
    {
      "cell_type": "code",
      "execution_count": 5,
      "metadata": {},
      "outputs": [
        {
          "name": "stdout",
          "output_type": "stream",
          "text": [
            "4\n"
          ]
        }
      ],
      "source": [
        "def add_numbers(a, b):\n",
        "    \"\"\"\n",
        "    Add two numbers together\n",
        "\n",
        "    Returns\n",
        "\n",
        "    -------\n",
        "\n",
        "    the_sum: type of arguments\n",
        "    \"\"\"\n",
        "\n",
        "    return a + b\n",
        "\n",
        "\n",
        "print(f'{add_numbers(1, 3)}')"
      ]
    },
    {
      "cell_type": "code",
      "execution_count": 6,
      "metadata": {},
      "outputs": [
        {
          "name": "stdout",
          "output_type": "stream",
          "text": [
            "{0: -1.3015453835914446, 1: -0.6267624137710393, 2: -1.0629382971390495, 3: 1.8169760387665372, 4: 1.7880430693107892, 5: -0.4072275990044226, 6: 1.7255479502139681}\n"
          ]
        }
      ],
      "source": [
        "import numpy as np\n",
        "\n",
        "data = {i: np.random.randn() for i in range(7)}\n",
        "\n",
        "print(data)"
      ]
    },
    {
      "cell_type": "code",
      "execution_count": 8,
      "metadata": {},
      "outputs": [
        {
          "data": {
            "text/plain": [
              "1.4666666666666666"
            ]
          },
          "execution_count": 8,
          "metadata": {},
          "output_type": "execute_result"
        }
      ],
      "source": [
        "def f(x, y, z):\n",
        "    return (x+y)/z\n",
        "\n",
        "\n",
        "a = 5\n",
        "b = 6\n",
        "c = 7.5\n",
        "\n",
        "result = f(a, b, c)\n",
        "\n",
        "result #no ipython nao precisa de print, mas pode colocar se quiser"
      ]
    },
    {
      "cell_type": "code",
      "execution_count": 10,
      "metadata": {},
      "outputs": [
        {
          "ename": "TypeError",
          "evalue": "can only concatenate str (not \"int\") to str",
          "output_type": "error",
          "traceback": [
            "\u001b[0;31m---------------------------------------------------------------------------\u001b[0m",
            "\u001b[0;31mTypeError\u001b[0m                                 Traceback (most recent call last)",
            "\u001b[1;32m/home/jonas/Projetos/python/analise_de_dados/analise_de_dados.ipynb Cell 8\u001b[0m in \u001b[0;36m<cell line: 1>\u001b[0;34m()\u001b[0m\n\u001b[0;32m----> <a href='vscode-notebook-cell:/home/jonas/Projetos/python/analise_de_dados/analise_de_dados.ipynb#ch0000007?line=0'>1</a>\u001b[0m \u001b[39mprint\u001b[39m(\u001b[39m'\u001b[39;49m\u001b[39m5\u001b[39;49m\u001b[39m'\u001b[39;49m \u001b[39m+\u001b[39;49m \u001b[39m5\u001b[39;49m)\n",
            "\u001b[0;31mTypeError\u001b[0m: can only concatenate str (not \"int\") to str"
          ]
        }
      ],
      "source": [
        "print('5' + 5) #error"
      ]
    },
    {
      "cell_type": "code",
      "execution_count": 12,
      "metadata": {},
      "outputs": [
        {
          "name": "stdout",
          "output_type": "stream",
          "text": [
            "a is <class 'float'>, b is <class 'int'>\n",
            "2.25\n"
          ]
        }
      ],
      "source": [
        "a = 4.5\n",
        "b = 2\n",
        "\n",
        "print('a is {0}, b is {1}'.format(type(a), type(b)))\n",
        "\n",
        "print(a / b)"
      ]
    },
    {
      "cell_type": "code",
      "execution_count": 16,
      "metadata": {},
      "outputs": [
        {
          "name": "stdout",
          "output_type": "stream",
          "text": [
            "True\n"
          ]
        }
      ],
      "source": [
        "a = 5\n",
        "\n",
        "print(isinstance(a, int))"
      ]
    },
    {
      "cell_type": "code",
      "execution_count": 30,
      "metadata": {},
      "outputs": [
        {
          "name": "stdout",
          "output_type": "stream",
          "text": [
            "True\n",
            "True\n"
          ]
        },
        {
          "data": {
            "text/plain": [
              "<function str.split(sep=None, maxsplit=-1)>"
            ]
          },
          "execution_count": 30,
          "metadata": {},
          "output_type": "execute_result"
        }
      ],
      "source": [
        "a = 5\n",
        "b = 4.5\n",
        "\n",
        "print(isinstance(a, (int, float)))\n",
        "print(isinstance(b, (int, float)))\n",
        "\n",
        "text = 'foo'\n",
        "\n",
        "getattr(text, 'split')\n"
      ]
    },
    {
      "cell_type": "code",
      "execution_count": 1,
      "metadata": {},
      "outputs": [
        {
          "data": {
            "text/plain": [
              "<function str.split(sep=None, maxsplit=-1)>"
            ]
          },
          "execution_count": 1,
          "metadata": {},
          "output_type": "execute_result"
        }
      ],
      "source": [
        "a = 'foo'\n",
        "\n",
        "getattr(a, 'split')"
      ]
    },
    {
      "cell_type": "code",
      "execution_count": 15,
      "metadata": {},
      "outputs": [
        {
          "name": "stdout",
          "output_type": "stream",
          "text": [
            "True\n",
            "True\n",
            "False\n",
            "<class 'list'>\n",
            "['nome', 'idade']\n"
          ]
        }
      ],
      "source": [
        "def is_iterable(obj):\n",
        "    try:\n",
        "        iter(obj)\n",
        "        return True\n",
        "\n",
        "    except TypeError: # não é iterável\n",
        "        return False\n",
        "\n",
        "print(is_iterable('a string'))\n",
        "\n",
        "print(is_iterable([1, 2, 3]))\n",
        "\n",
        "print(is_iterable(5))\n",
        "\n",
        "x = {\n",
        "    'nome': 'Jonas',\n",
        "    'idade': 35\n",
        "}\n",
        "\n",
        "if not isinstance(x, list) and is_iterable(x):\n",
        "    x = list(x)\n",
        "\n",
        "print(type(x))\n",
        "\n",
        "print(x)\n"
      ]
    },
    {
      "cell_type": "markdown",
      "metadata": {},
      "source": [
        "# Importações\n",
        "\n",
        "*Importando modulos*"
      ]
    },
    {
      "cell_type": "code",
      "execution_count": 5,
      "metadata": {},
      "outputs": [
        {
          "name": "stdout",
          "output_type": "stream",
          "text": [
            "7\n",
            "3.14159\n"
          ]
        }
      ],
      "source": [
        "import some_module\n",
        "\n",
        "result = some_module.f(5)\n",
        "\n",
        "pi = some_module.PI\n",
        "\n",
        "print(result)\n",
        "\n",
        "print(pi)"
      ]
    },
    {
      "cell_type": "code",
      "execution_count": 6,
      "metadata": {},
      "outputs": [
        {
          "name": "stdout",
          "output_type": "stream",
          "text": [
            "8.14159\n"
          ]
        }
      ],
      "source": [
        "from some_module import f, g, PI\n",
        "\n",
        "result = g(5, PI)\n",
        "\n",
        "print(result)"
      ]
    },
    {
      "cell_type": "code",
      "execution_count": 1,
      "metadata": {},
      "outputs": [
        {
          "name": "stdout",
          "output_type": "stream",
          "text": [
            "5.14159 9.14159\n"
          ]
        }
      ],
      "source": [
        "import some_module as sm\n",
        "from some_module import PI as pi, g as gf\n",
        "\n",
        "r1 = sm.f(pi)\n",
        "r2 = gf(6, pi)\n",
        "\n",
        "print(r1, r2)"
      ]
    },
    {
      "cell_type": "code",
      "execution_count": 10,
      "metadata": {},
      "outputs": [
        {
          "name": "stdout",
          "output_type": "stream",
          "text": [
            "-2\n",
            "33.5\n",
            "False\n"
          ]
        }
      ],
      "source": [
        "print(5 - 7)\n",
        "print(12 + 21.5)\n",
        "print(5 <= 2)"
      ]
    },
    {
      "cell_type": "markdown",
      "metadata": {},
      "source": [
        "# Binary operators and comparisons\n",
        "\n",
        "### Tests with binary operators and comparisons\n",
        "\n",
        "*Use of **is** and **is not***\n"
      ]
    },
    {
      "cell_type": "code",
      "execution_count": 13,
      "metadata": {},
      "outputs": [
        {
          "name": "stdout",
          "output_type": "stream",
          "text": [
            "True\n",
            "True\n",
            "True\n"
          ]
        }
      ],
      "source": [
        "a = [1, 2, 3]\n",
        "\n",
        "b = a\n",
        "\n",
        "c = list(a)\n",
        "\n",
        "print(a is b)\n",
        "\n",
        "print(a is not c)\n",
        "\n",
        "print(a == c)"
      ]
    },
    {
      "cell_type": "markdown",
      "metadata": {},
      "source": [
        "*Checking if a variable is **None***"
      ]
    },
    {
      "cell_type": "code",
      "execution_count": 15,
      "metadata": {},
      "outputs": [
        {
          "name": "stdout",
          "output_type": "stream",
          "text": [
            "True\n"
          ]
        }
      ],
      "source": [
        "a = None\n",
        "\n",
        "print(a is None)\n"
      ]
    },
    {
      "cell_type": "markdown",
      "metadata": {},
      "source": [
        "*List of binary operators*"
      ]
    },
    {
      "cell_type": "code",
      "execution_count": 45,
      "metadata": {},
      "outputs": [
        {
          "name": "stdout",
          "output_type": "stream",
          "text": [
            "4\n",
            "3\n",
            "21\n",
            "3.0\n",
            "3\n",
            "1728\n",
            "True\n",
            "True\n",
            "False\n",
            "True\n",
            "False\n",
            "True\n",
            "False\n",
            "True\n",
            "True\n",
            "False\n",
            "True True\n",
            "True False\n",
            "True True\n",
            "False True\n",
            "True\n",
            "False\n",
            "False\n"
          ]
        }
      ],
      "source": [
        "print(1 + 3) #sum\n",
        "print(6 - 3) #subtraction\n",
        "print(7 * 3) #multiplication\n",
        "print(9 / 3) #division\n",
        "print(10 // 3) #floor division\n",
        "print(12 ** 3) #raises the potency\n",
        "print((1 + 2 == 3) & (1 + 2 == 3)) #comparison bit a bit AND (bitwise)\n",
        "\n",
        "print((1 + 2 == 0) | (1 + 2 == 3)) #floor division\n",
        "print((1 + 2 == 0) | (1 + 2 == 21)) #floor division\n",
        "\n",
        "print(False ^ True)\n",
        "print(False ^ False)\n",
        "print(True ^ False)\n",
        "print(True ^ True)\n",
        "print(10 == 10)\n",
        "\n",
        "print(10 != 20)\n",
        "print(20 != 20)\n",
        "\n",
        "print(2 < 5, 2 <= 2)\n",
        "print(2 < 5, 2 <= 1)\n",
        "\n",
        "print(6 > 5, 6 >= 2)\n",
        "print(2 > 5, 2 >= 2)\n",
        "\n",
        "a = [1, 2, 3]\n",
        "\n",
        "b = a\n",
        "\n",
        "print(a is b)\n",
        "print(a is not b)\n",
        "print(list(a) is b)\n"
      ]
    },
    {
      "cell_type": "markdown",
      "metadata": {},
      "source": [
        "# Mutable and immutable objects"
      ]
    },
    {
      "cell_type": "code",
      "execution_count": 1,
      "metadata": {},
      "outputs": [
        {
          "name": "stdout",
          "output_type": "stream",
          "text": [
            "['foo', 2, (3, 4)]\n"
          ]
        }
      ],
      "source": [
        "a_list = ['foo', 2, [4, 5]]\n",
        "\n",
        "a_list[2] = (3, 4)\n",
        "\n",
        "print(a_list)"
      ]
    },
    {
      "cell_type": "markdown",
      "metadata": {},
      "source": [
        "*Other objects, such as strings and tuples, are immutable.*"
      ]
    },
    {
      "cell_type": "code",
      "execution_count": 2,
      "metadata": {},
      "outputs": [
        {
          "ename": "TypeError",
          "evalue": "'tuple' object does not support item assignment",
          "output_type": "error",
          "traceback": [
            "\u001b[0;31m---------------------------------------------------------------------------\u001b[0m",
            "\u001b[0;31mTypeError\u001b[0m                                 Traceback (most recent call last)",
            "\u001b[1;32m/home/jonas/Projetos/python/analise_de_dados/chapter_2/analise_de_dados.ipynb Cell 28\u001b[0m in \u001b[0;36m<cell line: 3>\u001b[0;34m()\u001b[0m\n\u001b[1;32m      <a href='vscode-notebook-cell:/home/jonas/Projetos/python/analise_de_dados/chapter_2/analise_de_dados.ipynb#ch0000028?line=0'>1</a>\u001b[0m a_tuple \u001b[39m=\u001b[39m (\u001b[39m3\u001b[39m, \u001b[39m5\u001b[39m, (\u001b[39m4\u001b[39m, \u001b[39m5\u001b[39m))\n\u001b[0;32m----> <a href='vscode-notebook-cell:/home/jonas/Projetos/python/analise_de_dados/chapter_2/analise_de_dados.ipynb#ch0000028?line=2'>3</a>\u001b[0m a_tuple[\u001b[39m1\u001b[39m] \u001b[39m=\u001b[39m \u001b[39m'\u001b[39m\u001b[39mfour\u001b[39m\u001b[39m'\u001b[39m\n",
            "\u001b[0;31mTypeError\u001b[0m: 'tuple' object does not support item assignment"
          ]
        }
      ],
      "source": [
        "a_tuple = (3, 5, (4, 5))\n",
        "\n",
        "a_tuple[1] = 'four'"
      ]
    },
    {
      "cell_type": "markdown",
      "metadata": {},
      "source": [
        "# Numeric types"
      ]
    },
    {
      "cell_type": "markdown",
      "metadata": {},
      "source": [
        "*int*"
      ]
    },
    {
      "cell_type": "code",
      "execution_count": 3,
      "metadata": {},
      "outputs": [
        {
          "name": "stdout",
          "output_type": "stream",
          "text": [
            "26254519291092456596965462913230729701102721\n"
          ]
        }
      ],
      "source": [
        "ival = 17239871\n",
        "\n",
        "print(ival ** 6)\n"
      ]
    },
    {
      "cell_type": "markdown",
      "metadata": {},
      "source": [
        "*float*"
      ]
    },
    {
      "cell_type": "code",
      "execution_count": 10,
      "metadata": {},
      "outputs": [
        {
          "name": "stdout",
          "output_type": "stream",
          "text": [
            "7.143 6.78e-05\n",
            "<class 'float'> <class 'float'>\n",
            "1.5\n",
            "1\n"
          ]
        }
      ],
      "source": [
        "fval = 7.143\n",
        "\n",
        "fval2 = 6.78e-5\n",
        "\n",
        "print(fval, fval2)\n",
        "print(type(fval), type(fval2))\n",
        "\n",
        "print(3 / 2) #Division with float result\n",
        "print(3 // 2) #Integer division"
      ]
    },
    {
      "cell_type": "markdown",
      "metadata": {},
      "source": [
        "# Strings"
      ]
    },
    {
      "cell_type": "code",
      "execution_count": 24,
      "metadata": {},
      "outputs": [
        {
          "name": "stdout",
          "output_type": "stream",
          "text": [
            "one way of writing a string\n",
            "another way\n",
            "\n",
            "    This is a longer string that\n",
            "    spans multiple lines\n",
            "\n",
            "3\n",
            "5\n",
            "this is a longer string\n",
            "this is a string\n"
          ]
        }
      ],
      "source": [
        "a = 'one way of writing a string'\n",
        "b = 'another way'\n",
        "\n",
        "print(a)\n",
        "print(b)\n",
        "\n",
        "#Multiline Strings\n",
        "c = '''\n",
        "    This is a longer string that\n",
        "    spans multiple lines\n",
        "'''\n",
        "\n",
        "print(c)\n",
        "\n",
        "#Contando quantos caracter tem em uma string, começando por 0 (\\n é quebra de linha)\n",
        "print(c.count('\\n'))\n",
        "print(c.count('i'))\n",
        "\n",
        "#Strings são imutaveis, não permirindo modificaçoes\n",
        "d = 'this is a string'\n",
        "\n",
        "# d[10] = 'f' #error\n",
        "\n",
        "e = d.replace('string', 'longer string')\n",
        "\n",
        "print(e)\n",
        "print(d)"
      ]
    },
    {
      "cell_type": "markdown",
      "metadata": {},
      "source": [
        "*Conversão de tipos em string*"
      ]
    },
    {
      "cell_type": "code",
      "execution_count": 29,
      "metadata": {},
      "outputs": [
        {
          "name": "stdout",
          "output_type": "stream",
          "text": [
            "<class 'float'>\n",
            "5.6\n",
            "<class 'str'>\n"
          ]
        }
      ],
      "source": [
        "a = 5.6\n",
        "\n",
        "s = str(a)\n",
        "\n",
        "print(type(a))\n",
        "\n",
        "print(s)\n",
        "print(type(s))\n",
        "\n"
      ]
    },
    {
      "cell_type": "markdown",
      "metadata": {},
      "source": [
        "*Strings are sequences of Unicode characters and therefore can be treated like other strings such as lists and tuples.*"
      ]
    },
    {
      "cell_type": "code",
      "execution_count": 38,
      "metadata": {},
      "outputs": [
        {
          "name": "stdout",
          "output_type": "stream",
          "text": [
            "['p', 'y', 't', 'h', 'o', 'n']\n",
            "pyt\n",
            "12\\34\n"
          ]
        },
        {
          "data": {
            "text/plain": [
              "'this\\\\has\\\\no\\\\special\\\\characters'"
            ]
          },
          "execution_count": 38,
          "metadata": {},
          "output_type": "execute_result"
        }
      ],
      "source": [
        "from re import U\n",
        "\n",
        "\n",
        "s = 'python'\n",
        "\n",
        "print(list(s))\n",
        "\n",
        "print(s[:3]) #Slicing\n",
        "\n",
        "t = '12\\\\34' #Backslash is used as an escape\n",
        "\n",
        "print(t)\n",
        "\n",
        "u = r'this\\has\\no\\special\\characters' #raw\n",
        "\n",
        "u\n",
        "\n",
        "# print(u)\n",
        "\n"
      ]
    },
    {
      "cell_type": "markdown",
      "metadata": {},
      "source": [
        "*concatenating strings*"
      ]
    },
    {
      "cell_type": "code",
      "execution_count": 1,
      "metadata": {},
      "outputs": [
        {
          "name": "stdout",
          "output_type": "stream",
          "text": [
            "this is the first half and this is the second half\n"
          ]
        }
      ],
      "source": [
        "a = 'this is the first half '\n",
        "b = 'and this is the second half'\n",
        "\n",
        "print(a + b)"
      ]
    },
    {
      "cell_type": "markdown",
      "metadata": {},
      "source": [
        "*Template Format*"
      ]
    },
    {
      "cell_type": "code",
      "execution_count": 4,
      "metadata": {},
      "outputs": [
        {
          "name": "stdout",
          "output_type": "stream",
          "text": [
            "4.56 Brazileiro Real are worth U$$1\n"
          ]
        }
      ],
      "source": [
        "template = '{0:.2f} {1:s} are worth U$${2:d}'\n",
        "\n",
        "print(template.format(4.5560, 'Brazileiro Real', 1))"
      ]
    },
    {
      "cell_type": "markdown",
      "metadata": {},
      "source": [
        "*Bytes e Unicode*"
      ]
    },
    {
      "cell_type": "code",
      "execution_count": 12,
      "metadata": {},
      "outputs": [
        {
          "name": "stdout",
          "output_type": "stream",
          "text": [
            "español\n",
            "b'espa\\xc3\\xb1ol'\n",
            "b'espa\\xf1ol'\n",
            "b'\\xff\\xfee\\x00s\\x00p\\x00a\\x00\\xf1\\x00o\\x00l\\x00'\n",
            "b'e\\x00s\\x00p\\x00a\\x00\\xf1\\x00o\\x00l\\x00'\n",
            "b'this is bytes'\n",
            "this is bytes\n"
          ]
        }
      ],
      "source": [
        "val = 'español'\n",
        "\n",
        "print(val)\n",
        "\n",
        "# Convertendo em bytes UTF-8\n",
        "\n",
        "val_utf8 = val.encode('utf-8')\n",
        "\n",
        "print(val_utf8)\n",
        "\n",
        "print(val.encode('latin1'))\n",
        "print(val.encode('utf-16'))\n",
        "print(val.encode('utf-16le'))\n",
        "\n",
        "#transformando em bytes, prefixando uma string com b\n",
        "\n",
        "bytes_val = b'this is bytes'\n",
        "\n",
        "print(bytes_val)\n",
        "\n",
        "decoded = bytes_val.decode('utf8') # é str (Unicode) agora\n",
        "\n",
        "print(decoded)"
      ]
    },
    {
      "cell_type": "markdown",
      "metadata": {},
      "source": [
        "# Booleans"
      ]
    },
    {
      "cell_type": "code",
      "execution_count": 14,
      "metadata": {},
      "outputs": [
        {
          "name": "stdout",
          "output_type": "stream",
          "text": [
            "True\n",
            "True\n"
          ]
        }
      ],
      "source": [
        "print(True and True)\n",
        "print(False or True)\n",
        "\n"
      ]
    },
    {
      "cell_type": "markdown",
      "metadata": {},
      "source": [
        "# Casting of types"
      ]
    },
    {
      "cell_type": "code",
      "execution_count": 18,
      "metadata": {},
      "outputs": [
        {
          "name": "stdout",
          "output_type": "stream",
          "text": [
            "<class 'float'>\n",
            "3\n",
            "True\n",
            "False\n"
          ]
        }
      ],
      "source": [
        "s = '3.14159'\n",
        "\n",
        "fval = float(s)\n",
        "\n",
        "print(type(fval))\n",
        "\n",
        "print(int(fval))\n",
        "\n",
        "print(bool(fval))\n",
        "\n",
        "print(bool(0))"
      ]
    },
    {
      "cell_type": "markdown",
      "metadata": {},
      "source": [
        "# None"
      ]
    },
    {
      "cell_type": "code",
      "execution_count": 20,
      "metadata": {},
      "outputs": [
        {
          "name": "stdout",
          "output_type": "stream",
          "text": [
            "True\n",
            "True\n"
          ]
        }
      ],
      "source": [
        "a = None\n",
        "\n",
        "print(a is None)\n",
        "\n",
        "b = 5\n",
        "\n",
        "print(b is not None)"
      ]
    },
    {
      "cell_type": "markdown",
      "metadata": {},
      "source": [
        "*None como valor default para argumentos de funções*"
      ]
    },
    {
      "cell_type": "code",
      "execution_count": 24,
      "metadata": {},
      "outputs": [
        {
          "name": "stdout",
          "output_type": "stream",
          "text": [
            "50\n",
            "10\n",
            "<class 'NoneType'>\n"
          ]
        }
      ],
      "source": [
        "def add_and_maybe_multiply(a, b, c=None):\n",
        "    result = a + b\n",
        "\n",
        "    if c is not None:\n",
        "        result = result * c\n",
        "    \n",
        "    return result\n",
        "\n",
        "print(add_and_maybe_multiply(5, 5, 5))\n",
        "print(add_and_maybe_multiply(5, 5))\n",
        "\n",
        "print(type(None))"
      ]
    },
    {
      "cell_type": "markdown",
      "metadata": {},
      "source": [
        "# Data and Time"
      ]
    },
    {
      "cell_type": "code",
      "execution_count": 15,
      "metadata": {},
      "outputs": [
        {
          "name": "stdout",
          "output_type": "stream",
          "text": [
            "29\n",
            "30\n"
          ]
        },
        {
          "data": {
            "text/plain": [
              "datetime.date(2011, 10, 29)"
            ]
          },
          "execution_count": 15,
          "metadata": {},
          "output_type": "execute_result"
        }
      ],
      "source": [
        "from datetime import datetime, date, time\n",
        "\n",
        "dt = datetime(2011, 10, 29, 20, 30, 21)\n",
        "\n",
        "print(dt.day)\n",
        "\n",
        "print(dt.minute)\n",
        "\n",
        "dt.date()\n",
        "\n"
      ]
    },
    {
      "cell_type": "code",
      "execution_count": 18,
      "metadata": {},
      "outputs": [
        {
          "data": {
            "text/plain": [
              "datetime.time(20, 30, 21)"
            ]
          },
          "execution_count": 18,
          "metadata": {},
          "output_type": "execute_result"
        }
      ],
      "source": [
        "dt.time()\n"
      ]
    },
    {
      "cell_type": "code",
      "execution_count": 17,
      "metadata": {},
      "outputs": [
        {
          "name": "stdout",
          "output_type": "stream",
          "text": [
            "2011-10-29\n",
            "20:30:21\n"
          ]
        }
      ],
      "source": [
        "print(dt.date())\n",
        "print(dt.time())"
      ]
    },
    {
      "cell_type": "code",
      "execution_count": 19,
      "metadata": {},
      "outputs": [
        {
          "data": {
            "text/plain": [
              "'10/29/2011 20:30'"
            ]
          },
          "execution_count": 19,
          "metadata": {},
          "output_type": "execute_result"
        }
      ],
      "source": [
        "dt.strftime('%m/%d/%Y %H:%M')"
      ]
    },
    {
      "cell_type": "code",
      "execution_count": 20,
      "metadata": {},
      "outputs": [
        {
          "data": {
            "text/plain": [
              "datetime.datetime(2009, 10, 31, 0, 0)"
            ]
          },
          "execution_count": 20,
          "metadata": {},
          "output_type": "execute_result"
        }
      ],
      "source": [
        "datetime.strptime('20091031', '%Y%m%d')"
      ]
    },
    {
      "cell_type": "code",
      "execution_count": 24,
      "metadata": {},
      "outputs": [
        {
          "data": {
            "text/plain": [
              "datetime.datetime(2011, 10, 29, 20, 0)"
            ]
          },
          "execution_count": 24,
          "metadata": {},
          "output_type": "execute_result"
        }
      ],
      "source": [
        "horario = dt.replace(minute=0, second=0)\n",
        "\n",
        "horario\n",
        "\n",
        "# print(horario)"
      ]
    },
    {
      "cell_type": "markdown",
      "metadata": {},
      "source": [
        "*datetime.timedelta*"
      ]
    },
    {
      "cell_type": "code",
      "execution_count": 30,
      "metadata": {},
      "outputs": [
        {
          "name": "stdout",
          "output_type": "stream",
          "text": [
            "<class 'datetime.timedelta'>\n",
            "17 days, 1:59:39\n"
          ]
        }
      ],
      "source": [
        "dt2 = datetime(2011, 11, 15, 22, 30)\n",
        "\n",
        "delta = dt2 - dt\n",
        "\n",
        "# delta\n",
        "\n",
        "print(type(delta))\n",
        "\n",
        "print(delta)"
      ]
    },
    {
      "cell_type": "code",
      "execution_count": 31,
      "metadata": {},
      "outputs": [
        {
          "data": {
            "text/plain": [
              "datetime.datetime(2011, 10, 29, 20, 30, 21)"
            ]
          },
          "execution_count": 31,
          "metadata": {},
          "output_type": "execute_result"
        }
      ],
      "source": [
        "dt"
      ]
    },
    {
      "cell_type": "code",
      "execution_count": 32,
      "metadata": {},
      "outputs": [
        {
          "data": {
            "text/plain": [
              "datetime.datetime(2011, 11, 15, 22, 30)"
            ]
          },
          "execution_count": 32,
          "metadata": {},
          "output_type": "execute_result"
        }
      ],
      "source": [
        "dt + delta"
      ]
    },
    {
      "cell_type": "markdown",
      "metadata": {},
      "source": [
        "# if, elif an else"
      ]
    },
    {
      "cell_type": "code",
      "execution_count": 44,
      "metadata": {},
      "outputs": [
        {
          "name": "stdout",
          "output_type": "stream",
          "text": [
            "Positive and larger than or equal to 5\n"
          ]
        }
      ],
      "source": [
        "x = 10\n",
        "\n",
        "if x < 0:\n",
        "    print(\"It's negative\")    \n",
        "elif x == 0:\n",
        "    print('Equal to zero')\n",
        "elif 0 < x < 5:\n",
        "    print('Positive but smaller than 5')\n",
        "else:\n",
        "    print('Positive and larger than or equal to 5')"
      ]
    },
    {
      "cell_type": "markdown",
      "metadata": {},
      "source": [
        "*and / or*"
      ]
    },
    {
      "cell_type": "code",
      "execution_count": 47,
      "metadata": {},
      "outputs": [
        {
          "name": "stdout",
          "output_type": "stream",
          "text": [
            "Made it\n"
          ]
        },
        {
          "data": {
            "text/plain": [
              "True"
            ]
          },
          "execution_count": 47,
          "metadata": {},
          "output_type": "execute_result"
        }
      ],
      "source": [
        "a = 5; b = 7\n",
        "\n",
        "c = 8; d = 4\n",
        "\n",
        "if a < b or c > d:\n",
        "    print('Made it')\n",
        "\n",
        "# encadear comparações\n",
        "4 > 3 > 2 > 1"
      ]
    },
    {
      "cell_type": "markdown",
      "metadata": {},
      "source": [
        "*laços for /*\n",
        "*continue*"
      ]
    },
    {
      "cell_type": "code",
      "execution_count": 50,
      "metadata": {},
      "outputs": [
        {
          "name": "stdout",
          "output_type": "stream",
          "text": [
            "None\n",
            "None\n",
            "12\n"
          ]
        }
      ],
      "source": [
        "sequence = [1, 2, None, 4, None, 5]\n",
        "total = 0\n",
        "\n",
        "for value in sequence:\n",
        "    if value is None:\n",
        "        print('None')\n",
        "        continue    \n",
        "    total += value\n",
        "\n",
        "print(total)"
      ]
    },
    {
      "cell_type": "markdown",
      "metadata": {},
      "source": [
        "*break*"
      ]
    },
    {
      "cell_type": "code",
      "execution_count": 51,
      "metadata": {},
      "outputs": [
        {
          "name": "stdout",
          "output_type": "stream",
          "text": [
            "13\n"
          ]
        }
      ],
      "source": [
        "sequence = [1, 2, 0, 4, 6, 5, 2, 1]\n",
        "total_until_5 = 0\n",
        "\n",
        "for value in sequence:\n",
        "    if value == 5:\n",
        "        break\n",
        "    total_until_5 += value\n",
        "\n",
        "print(total_until_5)  \n"
      ]
    },
    {
      "cell_type": "code",
      "execution_count": 52,
      "metadata": {},
      "outputs": [
        {
          "name": "stdout",
          "output_type": "stream",
          "text": [
            "0 0\n",
            "1 0\n",
            "1 1\n",
            "2 0\n",
            "2 1\n",
            "2 2\n",
            "3 0\n",
            "3 1\n",
            "3 2\n",
            "3 3\n"
          ]
        }
      ],
      "source": [
        "for i in range(4):\n",
        "    for j in range(4):\n",
        "        if j > i:\n",
        "            break\n",
        "        print(i, j)"
      ]
    },
    {
      "cell_type": "markdown",
      "metadata": {},
      "source": [
        "# Laços while\n",
        "\n",
        "*break*"
      ]
    },
    {
      "cell_type": "code",
      "execution_count": 53,
      "metadata": {},
      "outputs": [
        {
          "name": "stdout",
          "output_type": "stream",
          "text": [
            "512\n"
          ]
        }
      ],
      "source": [
        "x = 256\n",
        "total = 0\n",
        "\n",
        "while x > 0:\n",
        "    if total > 500:\n",
        "        break\n",
        "    total += x\n",
        "\n",
        "print(total)"
      ]
    },
    {
      "cell_type": "markdown",
      "metadata": {},
      "source": [
        "*pass*"
      ]
    },
    {
      "cell_type": "code",
      "execution_count": 56,
      "metadata": {},
      "outputs": [
        {
          "name": "stdout",
          "output_type": "stream",
          "text": [
            "positive!\n"
          ]
        }
      ],
      "source": [
        "x = 1\n",
        "\n",
        "if x < 0:\n",
        "    print('negative!')\n",
        "elif x == 0:\n",
        "    # TODO: insira algo inteligente aqui\n",
        "    pass\n",
        "else:\n",
        "    print('positive!')\n"
      ]
    },
    {
      "cell_type": "markdown",
      "metadata": {},
      "source": [
        "# range"
      ]
    },
    {
      "cell_type": "code",
      "execution_count": 62,
      "metadata": {},
      "outputs": [
        {
          "name": "stdout",
          "output_type": "stream",
          "text": [
            "range(0, 10)\n",
            "[0, 1, 2, 3, 4, 5, 6, 7, 8, 9]\n",
            "[0, 2, 4, 6, 8, 10, 12, 14, 16, 18]\n",
            "[5, 4, 3, 2, 1]\n"
          ]
        }
      ],
      "source": [
        "print(range(10))\n",
        "\n",
        "print(list(range(10)))\n",
        "\n",
        "print(list(range(0, 20, 2)))\n",
        "\n",
        "print(list(range(5, 0, -1)))"
      ]
    },
    {
      "cell_type": "code",
      "execution_count": 70,
      "metadata": {},
      "outputs": [
        {
          "name": "stdout",
          "output_type": "stream",
          "text": [
            "1\n",
            "2\n",
            "3\n",
            "4\n",
            "1\n",
            "2\n",
            "3\n",
            "4\n"
          ]
        }
      ],
      "source": [
        "seq = [1, 2, 3, 4]\n",
        "\n",
        "for i in range(len(seq)):\n",
        "    val = seq[i]\n",
        "    print(val)\n",
        "\n",
        "for i in seq:\n",
        "    print(i)"
      ]
    },
    {
      "cell_type": "code",
      "execution_count": 75,
      "metadata": {},
      "outputs": [
        {
          "name": "stdout",
          "output_type": "stream",
          "text": [
            "23331668 10000\n"
          ]
        }
      ],
      "source": [
        "soma = 0\n",
        "count = 0\n",
        "\n",
        "for i in range(10000):\n",
        "    #% é o operador de módulo\n",
        "    count += 1\n",
        "    if i % 3 == 0 or i % 5 == 0:\n",
        "        soma += i\n",
        "\n",
        "print(soma, count)"
      ]
    },
    {
      "cell_type": "markdown",
      "metadata": {},
      "source": [
        "# Expressões ternárias"
      ]
    },
    {
      "cell_type": "code",
      "execution_count": 2,
      "metadata": {},
      "outputs": [
        {
          "data": {
            "text/plain": [
              "'Non-negative'"
            ]
          },
          "execution_count": 2,
          "metadata": {},
          "output_type": "execute_result"
        }
      ],
      "source": [
        "x = 5\n",
        "\n",
        "'Non-negative' if x >= 0 else 'Negative'\n"
      ]
    }
  ],
  "metadata": {
    "kernelspec": {
      "display_name": "Python 3.8.10 ('env': venv)",
      "language": "python",
      "name": "python3"
    },
    "language_info": {
      "codemirror_mode": {
        "name": "ipython",
        "version": 3
      },
      "file_extension": ".py",
      "mimetype": "text/x-python",
      "name": "python",
      "nbconvert_exporter": "python",
      "pygments_lexer": "ipython3",
      "version": "3.8.10"
    },
    "vscode": {
      "interpreter": {
        "hash": "37a2f52c0de4fac81a0bf58b0010a52fc5b6297355ab373e5af9e6d22cada09b"
      }
    }
  },
  "nbformat": 4,
  "nbformat_minor": 4
}
