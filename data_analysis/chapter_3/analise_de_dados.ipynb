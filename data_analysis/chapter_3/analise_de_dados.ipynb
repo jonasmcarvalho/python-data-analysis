{
 "cells": [
  {
   "cell_type": "markdown",
   "metadata": {},
   "source": [
    "# Estruturas de dados e sequencias\n",
    "*Tupla*"
   ]
  },
  {
   "cell_type": "code",
   "execution_count": 1,
   "metadata": {},
   "outputs": [
    {
     "name": "stdout",
     "output_type": "stream",
     "text": [
      "(4, 5, 6)\n"
     ]
    }
   ],
   "source": [
    "tup = 4, 5, 6\n",
    "\n",
    "print(tup)"
   ]
  },
  {
   "cell_type": "markdown",
   "metadata": {},
   "source": [
    "*Tupla de tuplas*"
   ]
  },
  {
   "cell_type": "code",
   "execution_count": 2,
   "metadata": {},
   "outputs": [
    {
     "name": "stdout",
     "output_type": "stream",
     "text": [
      "((4, 5, 6), (7, 8))\n"
     ]
    }
   ],
   "source": [
    "nested_tup = (4, 5, 6), (7, 8) \n",
    "print(nested_tup)"
   ]
  },
  {
   "cell_type": "markdown",
   "metadata": {},
   "source": [
    "*Convertendo sequencia ou iterador em tupla*"
   ]
  },
  {
   "cell_type": "code",
   "execution_count": 9,
   "metadata": {},
   "outputs": [
    {
     "name": "stdout",
     "output_type": "stream",
     "text": [
      "(4, 0, 2)\n",
      "('s', 't', 'r', 'i', 'n', 'g')\n",
      "s\n"
     ]
    }
   ],
   "source": [
    "print(tuple([4, 0, 2]))\n",
    "\n",
    "tup = (tuple('string'))\n",
    "\n",
    "print(tup)\n",
    "\n",
    "print(tup[0])"
   ]
  },
  {
   "cell_type": "markdown",
   "metadata": {},
   "source": [
    "*Depois de criada, não é possivel modifical qualquer objeto armazennado em cada posição*"
   ]
  },
  {
   "cell_type": "code",
   "execution_count": 14,
   "metadata": {},
   "outputs": [
    {
     "ename": "TypeError",
     "evalue": "'tuple' object does not support item assignment",
     "output_type": "error",
     "traceback": [
      "\u001b[0;31m---------------------------------------------------------------------------\u001b[0m",
      "\u001b[0;31mTypeError\u001b[0m                                 Traceback (most recent call last)",
      "\u001b[1;32m/home/jonas/Projetos/python/analise_de_dados/chapter_3/analise_de_dados.ipynb Cell 8\u001b[0m in \u001b[0;36m<cell line: 3>\u001b[0;34m()\u001b[0m\n\u001b[1;32m      <a href='vscode-notebook-cell:/home/jonas/Projetos/python/analise_de_dados/chapter_3/analise_de_dados.ipynb#ch0000007?line=0'>1</a>\u001b[0m new_tup \u001b[39m=\u001b[39m \u001b[39mtuple\u001b[39m([\u001b[39m'\u001b[39m\u001b[39mfoo\u001b[39m\u001b[39m'\u001b[39m, [\u001b[39m1\u001b[39m, \u001b[39m2\u001b[39m], \u001b[39mTrue\u001b[39;00m])\n\u001b[0;32m----> <a href='vscode-notebook-cell:/home/jonas/Projetos/python/analise_de_dados/chapter_3/analise_de_dados.ipynb#ch0000007?line=2'>3</a>\u001b[0m new_tup[\u001b[39m2\u001b[39m] \u001b[39m=\u001b[39m \u001b[39mFalse\u001b[39;00m\n",
      "\u001b[0;31mTypeError\u001b[0m: 'tuple' object does not support item assignment"
     ]
    }
   ],
   "source": [
    "new_tup = tuple(['foo', [1, 2], True])\n",
    "\n",
    "new_tup[2] = False"
   ]
  },
  {
   "cell_type": "markdown",
   "metadata": {},
   "source": [
    "*Objetos mutaveis, como uma lista, pode ser modificado in-place*"
   ]
  },
  {
   "cell_type": "code",
   "execution_count": 15,
   "metadata": {},
   "outputs": [
    {
     "name": "stdout",
     "output_type": "stream",
     "text": [
      "('foo', [1, 2, 3], True)\n"
     ]
    }
   ],
   "source": [
    "new_tup[1].append(3)\n",
    "\n",
    "print(new_tup)"
   ]
  },
  {
   "cell_type": "markdown",
   "metadata": {},
   "source": [
    "*Concatenando tuplas usando o operador +*"
   ]
  },
  {
   "cell_type": "code",
   "execution_count": 17,
   "metadata": {},
   "outputs": [
    {
     "name": "stdout",
     "output_type": "stream",
     "text": [
      "(4, None, 'foo', 6, 0, 'bar')\n"
     ]
    }
   ],
   "source": [
    "print((4, None, 'foo') + (6, 0) + ('bar',))"
   ]
  },
  {
   "cell_type": "markdown",
   "metadata": {},
   "source": [
    "*Multiplicar tuplas para concatenar*"
   ]
  },
  {
   "cell_type": "code",
   "execution_count": 18,
   "metadata": {},
   "outputs": [
    {
     "name": "stdout",
     "output_type": "stream",
     "text": [
      "('foo', 'bar', 'foo', 'bar', 'foo', 'bar', 'foo', 'bar')\n"
     ]
    }
   ],
   "source": [
    "print(('foo', 'bar') * 4)"
   ]
  },
  {
   "cell_type": "markdown",
   "metadata": {},
   "source": [
    "*Desempacotando / Desestruturando tuplas*"
   ]
  },
  {
   "cell_type": "code",
   "execution_count": 22,
   "metadata": {},
   "outputs": [
    {
     "name": "stdout",
     "output_type": "stream",
     "text": [
      "5\n"
     ]
    }
   ],
   "source": [
    "tup = (4, 5, 6)\n",
    "\n",
    "a, b, c = tup\n",
    "\n",
    "print(b)"
   ]
  },
  {
   "cell_type": "markdown",
   "metadata": {},
   "source": [
    "*Desestruturando sequencias de tuplas aninhadas*"
   ]
  },
  {
   "cell_type": "code",
   "execution_count": 23,
   "metadata": {},
   "outputs": [
    {
     "name": "stdout",
     "output_type": "stream",
     "text": [
      "7\n"
     ]
    }
   ],
   "source": [
    "tup = 4, 5, (6, 7)\n",
    "\n",
    "a, b, (c, d) = tup\n",
    "\n",
    "print(d)"
   ]
  },
  {
   "cell_type": "markdown",
   "metadata": {},
   "source": [
    "*Trocar nomes de variaveis (fazer swap)*"
   ]
  },
  {
   "cell_type": "code",
   "execution_count": 24,
   "metadata": {},
   "outputs": [
    {
     "data": {
      "text/plain": [
       "4"
      ]
     },
     "execution_count": 24,
     "metadata": {},
     "output_type": "execute_result"
    }
   ],
   "source": [
    "tmp = a \n",
    "\n",
    "a = b\n",
    "\n",
    "b = tmp\n",
    "\n",
    "b"
   ]
  },
  {
   "cell_type": "markdown",
   "metadata": {},
   "source": [
    "*Em python, pode ser feita assim*"
   ]
  },
  {
   "cell_type": "code",
   "execution_count": 27,
   "metadata": {},
   "outputs": [
    {
     "name": "stdout",
     "output_type": "stream",
     "text": [
      "1\n",
      "2\n",
      "2\n",
      "1\n"
     ]
    }
   ],
   "source": [
    "a, b = 1, 2\n",
    "\n",
    "print(a)\n",
    "print(b)\n",
    "\n",
    "b, a = a, b\n",
    "\n",
    "print(a)\n",
    "print(b)"
   ]
  },
  {
   "cell_type": "markdown",
   "metadata": {},
   "source": [
    "*Uso comum de desestruturação, na iteração por sequencias ou listas*"
   ]
  },
  {
   "cell_type": "code",
   "execution_count": 28,
   "metadata": {},
   "outputs": [
    {
     "name": "stdout",
     "output_type": "stream",
     "text": [
      "a=1, b=2, c=3\n",
      "a=4, b=5, c=6\n",
      "a=7, b=8, c=9\n"
     ]
    }
   ],
   "source": [
    "seq = [(1, 2, 3), (4, 5, 6), (7, 8, 9)]\n",
    "\n",
    "for a, b, c in seq:\n",
    "    print('a={0}, b={1}, c={2}'.format(a, b, c))"
   ]
  },
  {
   "cell_type": "markdown",
   "metadata": {},
   "source": [
    "*Retirar alguns elementos do inicio da tupla. Sintaxe *rest*"
   ]
  },
  {
   "cell_type": "code",
   "execution_count": 30,
   "metadata": {},
   "outputs": [
    {
     "name": "stdout",
     "output_type": "stream",
     "text": [
      "1 2\n",
      "[3, 4, 5]\n"
     ]
    }
   ],
   "source": [
    "values = 1, 2, 3, 4, 5\n",
    "\n",
    "a, b, *rest = values\n",
    "\n",
    "print(a, b)\n",
    "\n",
    "print(rest)"
   ]
  },
  {
   "cell_type": "markdown",
   "metadata": {},
   "source": [
    "*Metodos de tupla*"
   ]
  },
  {
   "cell_type": "code",
   "execution_count": 32,
   "metadata": {},
   "outputs": [
    {
     "name": "stdout",
     "output_type": "stream",
     "text": [
      "4\n"
     ]
    }
   ],
   "source": [
    "a = (1, 2, 2, 2, 3, 4, 2)\n",
    "\n",
    "print(a.count(2))"
   ]
  },
  {
   "cell_type": "markdown",
   "metadata": {},
   "source": [
    "# Listas"
   ]
  },
  {
   "cell_type": "code",
   "execution_count": 43,
   "metadata": {},
   "outputs": [
    {
     "name": "stdout",
     "output_type": "stream",
     "text": [
      "['foo', 'bar', 'baz']\n",
      "['foo', 'peekaboo', 'baz']\n"
     ]
    }
   ],
   "source": [
    "a_list = [2, 3, 7, None]\n",
    "\n",
    "tup = ('foo', 'bar', 'baz')\n",
    "\n",
    "b_list = list(tup)\n",
    "\n",
    "print(b_list)\n",
    "\n",
    "b_list[1] = 'peekaboo'\n",
    "\n",
    "print(b_list)"
   ]
  },
  {
   "cell_type": "code",
   "execution_count": 36,
   "metadata": {},
   "outputs": [
    {
     "name": "stdout",
     "output_type": "stream",
     "text": [
      "range(0, 10)\n",
      "[0, 1, 2, 3, 4, 5, 6, 7, 8, 9]\n"
     ]
    }
   ],
   "source": [
    "gen = range(10)\n",
    "\n",
    "print(gen)\n",
    "\n",
    "print(list(gen))"
   ]
  },
  {
   "cell_type": "markdown",
   "metadata": {},
   "source": [
    "*Adicionando e removendo elementos*\n",
    "\n",
    "Concatenando no final da lista, metodo append"
   ]
  },
  {
   "cell_type": "code",
   "execution_count": 44,
   "metadata": {},
   "outputs": [
    {
     "name": "stdout",
     "output_type": "stream",
     "text": [
      "['foo', 'peekaboo', 'baz', 'dwarf']\n"
     ]
    }
   ],
   "source": [
    "b_list.append('dwarf')\n",
    "\n",
    "print(b_list)"
   ]
  },
  {
   "cell_type": "markdown",
   "metadata": {},
   "source": [
    "*Inserindo elemento em local especifico com o metodo insert*"
   ]
  },
  {
   "cell_type": "code",
   "execution_count": 45,
   "metadata": {},
   "outputs": [
    {
     "name": "stdout",
     "output_type": "stream",
     "text": [
      "['foo', 'red', 'peekaboo', 'baz', 'dwarf']\n"
     ]
    }
   ],
   "source": [
    "b_list.insert(1, 'red')\n",
    "\n",
    "print(b_list)"
   ]
  },
  {
   "cell_type": "markdown",
   "metadata": {},
   "source": [
    "*Removento elementos com o metodo pop*"
   ]
  },
  {
   "cell_type": "code",
   "execution_count": 46,
   "metadata": {},
   "outputs": [
    {
     "name": "stdout",
     "output_type": "stream",
     "text": [
      "peekaboo\n",
      "['foo', 'red', 'baz', 'dwarf']\n"
     ]
    }
   ],
   "source": [
    "print(b_list.pop(2))\n",
    "\n",
    "print(b_list)"
   ]
  },
  {
   "cell_type": "markdown",
   "metadata": {},
   "source": [
    "*Removendo elementos pelo valos com o remove (localiza o primeiro valor e remove)*"
   ]
  },
  {
   "cell_type": "code",
   "execution_count": 55,
   "metadata": {},
   "outputs": [
    {
     "name": "stdout",
     "output_type": "stream",
     "text": [
      "['foo', 'red', 'baz', 'dwarf', 'foo']\n"
     ]
    }
   ],
   "source": [
    "b_list.append('foo')\n",
    "\n",
    "print(b_list)"
   ]
  },
  {
   "cell_type": "code",
   "execution_count": 56,
   "metadata": {},
   "outputs": [
    {
     "name": "stdout",
     "output_type": "stream",
     "text": [
      "['red', 'baz', 'dwarf', 'foo']\n"
     ]
    }
   ],
   "source": [
    "b_list.remove('foo')\n",
    "\n",
    "print(b_list)"
   ]
  },
  {
   "cell_type": "markdown",
   "metadata": {},
   "source": [
    "*Verificar se uma lista contem um valor utilizando o \"in\"*"
   ]
  },
  {
   "cell_type": "code",
   "execution_count": 57,
   "metadata": {},
   "outputs": [
    {
     "name": "stdout",
     "output_type": "stream",
     "text": [
      "True\n"
     ]
    }
   ],
   "source": [
    "print('dwarf' in b_list)"
   ]
  },
  {
   "cell_type": "markdown",
   "metadata": {},
   "source": [
    "*Negando \"in\" com \"not\"*"
   ]
  },
  {
   "cell_type": "code",
   "execution_count": 58,
   "metadata": {},
   "outputs": [
    {
     "name": "stdout",
     "output_type": "stream",
     "text": [
      "False\n"
     ]
    }
   ],
   "source": [
    "print('dwarf' not in b_list)"
   ]
  },
  {
   "cell_type": "markdown",
   "metadata": {},
   "source": [
    "*Concatenando e combinando listas*"
   ]
  },
  {
   "cell_type": "code",
   "execution_count": 1,
   "metadata": {},
   "outputs": [
    {
     "name": "stdout",
     "output_type": "stream",
     "text": [
      "[4, None, 'foo', 7, 8, (2, 3)]\n"
     ]
    }
   ],
   "source": [
    "ls = [4, None, 'foo'] + [7, 8, (2, 3)]\n",
    "print(ls)"
   ]
  },
  {
   "cell_type": "markdown",
   "metadata": {},
   "source": [
    "*Method extend*"
   ]
  },
  {
   "cell_type": "code",
   "execution_count": 7,
   "metadata": {},
   "outputs": [
    {
     "name": "stdout",
     "output_type": "stream",
     "text": [
      "[4, None, 'foo', 7, 8, (2, 3)]\n"
     ]
    }
   ],
   "source": [
    "x = [4, None, 'foo']\n",
    "\n",
    "x.extend([7, 8, (2, 3)])\n",
    "\n",
    "print(x)"
   ]
  },
  {
   "cell_type": "markdown",
   "metadata": {},
   "source": [
    "Concatenação de listas por adição, uma nova lista é criada e os objetos são copiados.\n",
    "\n",
    "*De preferência, usar extend para concatenar listas*"
   ]
  },
  {
   "cell_type": "markdown",
   "metadata": {},
   "source": [
    "Assim é mais rapido"
   ]
  },
  {
   "cell_type": "code",
   "execution_count": 20,
   "metadata": {},
   "outputs": [
    {
     "name": "stdout",
     "output_type": "stream",
     "text": [
      "[110, 20, 'gato']\n",
      "[110, 20, 'gato', 'cachorro', False, True, False]\n"
     ]
    }
   ],
   "source": [
    "list_of_lists = [[110, 20, 'gato'], ['cachorro', 'teste' == 'teste1', True, False]]\n",
    "\n",
    "everything = []\n",
    "\n",
    "for chunk in list_of_lists:\n",
    "    everything.extend(chunk)\n",
    "    print(everything)"
   ]
  },
  {
   "cell_type": "markdown",
   "metadata": {},
   "source": [
    "Assim é mais lento"
   ]
  },
  {
   "cell_type": "code",
   "execution_count": 26,
   "metadata": {},
   "outputs": [
    {
     "name": "stdout",
     "output_type": "stream",
     "text": [
      "[110, 20, 'gato']\n",
      "[110, 20, 'gato', 'cachorro', False, True, False]\n"
     ]
    }
   ],
   "source": [
    "list_of_lists = [[110, 20, 'gato'], ['cachorro', 'teste' == 'teste1', True, False]]\n",
    "\n",
    "everything = []\n",
    "\n",
    "for chunk in list_of_lists:\n",
    "    everything = everything + chunk\n",
    "    print(everything)"
   ]
  },
  {
   "cell_type": "markdown",
   "metadata": {},
   "source": [
    "#### *Ordination*\n",
    "\n",
    "##### Ordination in-place with sort function"
   ]
  },
  {
   "cell_type": "code",
   "execution_count": 27,
   "metadata": {},
   "outputs": [
    {
     "name": "stdout",
     "output_type": "stream",
     "text": [
      "[1, 2, 3, 5, 7]\n"
     ]
    }
   ],
   "source": [
    "a = [7, 2, 5, 1, 3]\n",
    "\n",
    "a.sort()\n",
    "\n",
    "print(a)"
   ]
  },
  {
   "cell_type": "markdown",
   "metadata": {},
   "source": [
    "*Options of sort*"
   ]
  },
  {
   "cell_type": "code",
   "execution_count": 28,
   "metadata": {},
   "outputs": [
    {
     "name": "stdout",
     "output_type": "stream",
     "text": [
      "['he', 'saw', 'six', 'small', 'foxes']\n"
     ]
    }
   ],
   "source": [
    "b = ['saw', 'small', 'he', 'foxes', 'six']\n",
    "\n",
    "b.sort(key=len)\n",
    "\n",
    "print(b)"
   ]
  },
  {
   "cell_type": "markdown",
   "metadata": {},
   "source": [
    "Binary search and sorted list maintenance\n",
    "\n",
    "*bisect.bsect and bisect.insort*"
   ]
  },
  {
   "cell_type": "code",
   "execution_count": 30,
   "metadata": {},
   "outputs": [
    {
     "name": "stdout",
     "output_type": "stream",
     "text": [
      "4\n",
      "[1, 2, 2, 2, 3, 4, 6, 7]\n"
     ]
    }
   ],
   "source": [
    "import bisect\n",
    "\n",
    "c = [1, 2, 2, 2, 3, 4, 7]\n",
    "\n",
    "print(bisect.bisect(c, 2))\n",
    "\n",
    "bisect.insort(c, 6)\n",
    "\n",
    "print(c)"
   ]
  },
  {
   "cell_type": "markdown",
   "metadata": {},
   "source": [
    "Slicing\n",
    "\n",
    "*We can select sections of most sequence types using slicing*"
   ]
  },
  {
   "cell_type": "code",
   "execution_count": 3,
   "metadata": {},
   "outputs": [
    {
     "name": "stdout",
     "output_type": "stream",
     "text": [
      "[2, 3, 7, 5]\n",
      "[7, 2, 3, 6, 3, 5, 6, 0, 1]\n"
     ]
    }
   ],
   "source": [
    "seq = [7, 2, 3, 7, 5, 6, 0, 1]\n",
    "\n",
    "print(seq[1:5])\n",
    "\n",
    "seq[3:4] = [6, 3]\n",
    "\n",
    "print(seq)"
   ]
  },
  {
   "cell_type": "markdown",
   "metadata": {},
   "source": [
    "*Omitindo start e stop quando os valores default for o inicio e o fim da sequencia*"
   ]
  },
  {
   "cell_type": "code",
   "execution_count": 5,
   "metadata": {},
   "outputs": [
    {
     "name": "stdout",
     "output_type": "stream",
     "text": [
      "[7, 2, 3, 6, 3]\n",
      "[6, 3, 5, 6, 0, 1]\n"
     ]
    }
   ],
   "source": [
    "print(seq[:5])\n",
    "print(seq[3:])"
   ]
  },
  {
   "cell_type": "markdown",
   "metadata": {},
   "source": [
    "*Indices negativos*"
   ]
  },
  {
   "cell_type": "code",
   "execution_count": 8,
   "metadata": {},
   "outputs": [
    {
     "name": "stdout",
     "output_type": "stream",
     "text": [
      "[5, 6, 0, 1]\n",
      "[6, 3, 5, 6]\n"
     ]
    }
   ],
   "source": [
    "print(seq[-4:])\n",
    "print(seq[-6:-2])"
   ]
  },
  {
   "cell_type": "markdown",
   "metadata": {},
   "source": [
    "*step para obter elementos alternados*"
   ]
  },
  {
   "cell_type": "code",
   "execution_count": 9,
   "metadata": {},
   "outputs": [
    {
     "name": "stdout",
     "output_type": "stream",
     "text": [
      "[7, 3, 3, 6, 1]\n"
     ]
    }
   ],
   "source": [
    "print(seq[::2])"
   ]
  },
  {
   "cell_type": "markdown",
   "metadata": {},
   "source": [
    "*Um uso conveniente deste recurso é passando -1, que inverte os valores da lista*"
   ]
  },
  {
   "cell_type": "code",
   "execution_count": 10,
   "metadata": {},
   "outputs": [
    {
     "name": "stdout",
     "output_type": "stream",
     "text": [
      "[1, 0, 6, 5, 3, 6, 3, 2, 7]\n"
     ]
    }
   ],
   "source": [
    "print(seq[::-1])"
   ]
  },
  {
   "cell_type": "markdown",
   "metadata": {},
   "source": [
    "### Built-in functions and sequences\n",
    "\n",
    "*Enumerate*\n",
    "\n"
   ]
  },
  {
   "cell_type": "code",
   "execution_count": 1,
   "metadata": {},
   "outputs": [
    {
     "name": "stdout",
     "output_type": "stream",
     "text": [
      "{'foo': 0, 'bar': 1, 'baz': 2}\n"
     ]
    }
   ],
   "source": [
    "some_list = ['foo', 'bar', 'baz']\n",
    "\n",
    "mapping = {}\n",
    "\n",
    "for i, v in enumerate(some_list):\n",
    "    mapping[v] = i\n",
    "\n",
    "print(mapping)"
   ]
  },
  {
   "cell_type": "markdown",
   "metadata": {},
   "source": [
    "*Sorted*"
   ]
  },
  {
   "cell_type": "code",
   "execution_count": 2,
   "metadata": {},
   "outputs": [
    {
     "name": "stdout",
     "output_type": "stream",
     "text": [
      "[0, 1, 2, 2, 3, 6, 7]\n"
     ]
    }
   ],
   "source": [
    "data = [7, 1, 2, 6, 0, 3, 2]\n",
    "\n",
    "data_sorted = sorted(data)\n",
    "\n",
    "print(data_sorted)"
   ]
  },
  {
   "cell_type": "markdown",
   "metadata": {},
   "source": [
    "### zip\n",
    "\n",
    "*The zip function pairs elements of a series of lists, tuples or other sequences to create a list of tuples*"
   ]
  },
  {
   "cell_type": "code",
   "execution_count": 6,
   "metadata": {},
   "outputs": [
    {
     "name": "stdout",
     "output_type": "stream",
     "text": [
      "[('foo', 'one'), ('bar', 'two'), ('baz', 'three')]\n",
      "[('foo', 'one', False), ('bar', 'two', True)]\n"
     ]
    }
   ],
   "source": [
    "seq1 = ['foo', 'bar', 'baz']\n",
    "seq2 = ['one', 'two', 'three']\n",
    "seq3 = [False, True]\n",
    "\n",
    "zipped = zip(seq1, seq2)\n",
    "\n",
    "listed = list(zipped)\n",
    "\n",
    "print(listed)\n",
    "\n",
    "listed_2 = zip(seq1, seq2, seq3)\n",
    "\n",
    "print(list(listed_2))"
   ]
  },
  {
   "cell_type": "code",
   "execution_count": 7,
   "metadata": {},
   "outputs": [
    {
     "name": "stdout",
     "output_type": "stream",
     "text": [
      "0: foo, one\n",
      "1: bar, two\n",
      "2: baz, three\n"
     ]
    }
   ],
   "source": [
    "for i, (a, b) in enumerate(zip(seq1, seq2)):\n",
    "    print('{0}: {1}, {2}'.format(i, a, b))\n"
   ]
  },
  {
   "cell_type": "code",
   "execution_count": 8,
   "metadata": {},
   "outputs": [
    {
     "name": "stdout",
     "output_type": "stream",
     "text": [
      "('Nolan', 'Roger', 'Schilling')\n",
      "('Ryan', 'Clemens', 'cut')\n"
     ]
    }
   ],
   "source": [
    "pitchers = [('Nolan', 'Ryan'), ('Roger', 'Clemens'), ('Schilling', 'cut')]\n",
    "\n",
    "first_names, las_names = zip(*pitchers)\n",
    "\n",
    "print(first_names)\n",
    "\n",
    "print(las_names)"
   ]
  },
  {
   "cell_type": "markdown",
   "metadata": {},
   "source": [
    "### reversed\n",
    "\n",
    "*Reversed iterates through the elements of a sequence in reverse order*"
   ]
  },
  {
   "cell_type": "code",
   "execution_count": 9,
   "metadata": {},
   "outputs": [
    {
     "name": "stdout",
     "output_type": "stream",
     "text": [
      "[9, 8, 7, 6, 5, 4, 3, 2, 1, 0]\n"
     ]
    }
   ],
   "source": [
    "reversed_list = list(reversed(range(10)))\n",
    "\n",
    "print(reversed_list)"
   ]
  },
  {
   "cell_type": "markdown",
   "metadata": {},
   "source": [
    "### dict\n",
    "\n",
    "*It is probably the most important built-in data structure in Python. It is a collection of flexible-length key-value pairs, where key and value are Python objects.*\n",
    "\n"
   ]
  },
  {
   "cell_type": "code",
   "execution_count": 10,
   "metadata": {},
   "outputs": [
    {
     "name": "stdout",
     "output_type": "stream",
     "text": [
      "{'a': 'some_value', 'b': [1, 2, 3, 4]}\n"
     ]
    }
   ],
   "source": [
    "empty_dict = {}\n",
    "\n",
    "d1 = {\n",
    "    'a': 'some_value', 'b': [1, 2, 3, 4]\n",
    "}\n",
    "\n",
    "print(d1)"
   ]
  },
  {
   "cell_type": "markdown",
   "metadata": {},
   "source": [
    "*Inserting elements*"
   ]
  },
  {
   "cell_type": "code",
   "execution_count": 11,
   "metadata": {},
   "outputs": [
    {
     "name": "stdout",
     "output_type": "stream",
     "text": [
      "{'a': 'some_value', 'b': [1, 2, 3, 4], 7: 'an integer'}\n"
     ]
    }
   ],
   "source": [
    "d1[7] = 'an integer'\n",
    "\n",
    "print(d1)"
   ]
  },
  {
   "cell_type": "code",
   "execution_count": null,
   "metadata": {},
   "outputs": [],
   "source": []
  },
  {
   "cell_type": "markdown",
   "metadata": {},
   "source": [
    "*Accessing elements*"
   ]
  },
  {
   "cell_type": "code",
   "execution_count": 12,
   "metadata": {},
   "outputs": [
    {
     "name": "stdout",
     "output_type": "stream",
     "text": [
      "[1, 2, 3, 4]\n"
     ]
    }
   ],
   "source": [
    "print(d1['b'])"
   ]
  },
  {
   "cell_type": "markdown",
   "metadata": {},
   "source": [
    "*Checking elements*"
   ]
  },
  {
   "cell_type": "code",
   "execution_count": 13,
   "metadata": {},
   "outputs": [
    {
     "data": {
      "text/plain": [
       "False"
      ]
     },
     "execution_count": 13,
     "metadata": {},
     "output_type": "execute_result"
    }
   ],
   "source": [
    "b in d1"
   ]
  },
  {
   "cell_type": "markdown",
   "metadata": {},
   "source": [
    "*Deleting with del and pop methods*"
   ]
  },
  {
   "cell_type": "code",
   "execution_count": 19,
   "metadata": {},
   "outputs": [
    {
     "name": "stdout",
     "output_type": "stream",
     "text": [
      "{'a': 'some_value', 'b': [1, 2, 3, 4], 7: 'an integer', 5: 'some value'}\n",
      "{'a': 'some_value', 'b': [1, 2, 3, 4], 7: 'an integer', 5: 'some value', 'dummy': 'another value'}\n"
     ]
    }
   ],
   "source": [
    "d1[5] = 'some value'\n",
    "\n",
    "print(d1)\n",
    "\n",
    "d1['dummy'] = 'another value'\n",
    "\n",
    "print(d1)"
   ]
  },
  {
   "cell_type": "code",
   "execution_count": 22,
   "metadata": {},
   "outputs": [
    {
     "name": "stdout",
     "output_type": "stream",
     "text": [
      "{'a': 'some_value', 'b': [1, 2, 3, 4], 7: 'an integer'}\n"
     ]
    }
   ],
   "source": [
    "del d1[5]\n",
    "\n",
    "print(d1)"
   ]
  },
  {
   "cell_type": "code",
   "execution_count": 20,
   "metadata": {},
   "outputs": [
    {
     "name": "stdout",
     "output_type": "stream",
     "text": [
      "another value\n",
      "{'a': 'some_value', 'b': [1, 2, 3, 4], 7: 'an integer', 5: 'some value'}\n"
     ]
    }
   ],
   "source": [
    "ret = d1.pop('dummy')\n",
    "\n",
    "print(ret)\n",
    "print(d1)"
   ]
  },
  {
   "cell_type": "markdown",
   "metadata": {},
   "source": [
    "*The key and value methods*"
   ]
  },
  {
   "cell_type": "code",
   "execution_count": 23,
   "metadata": {},
   "outputs": [
    {
     "name": "stdout",
     "output_type": "stream",
     "text": [
      "['a', 'b', 7]\n"
     ]
    }
   ],
   "source": [
    "keys = list(d1.keys())\n",
    "\n",
    "print(keys)"
   ]
  },
  {
   "cell_type": "code",
   "execution_count": 24,
   "metadata": {},
   "outputs": [
    {
     "name": "stdout",
     "output_type": "stream",
     "text": [
      "['some_value', [1, 2, 3, 4], 'an integer']\n"
     ]
    }
   ],
   "source": [
    "values = list(d1.values())\n",
    "\n",
    "print(values)"
   ]
  },
  {
   "cell_type": "markdown",
   "metadata": {},
   "source": [
    "### update\n",
    "\n",
    "*We can combine one dictionary with another using the update method*"
   ]
  },
  {
   "cell_type": "code",
   "execution_count": 25,
   "metadata": {},
   "outputs": [
    {
     "name": "stdout",
     "output_type": "stream",
     "text": [
      "{'a': 'some_value', 'b': 'foo', 7: 'an integer', 'c': 12}\n"
     ]
    }
   ],
   "source": [
    "d1.update(\n",
    "    {\n",
    "        'b': 'foo',\n",
    "        'c': 12\n",
    "    }\n",
    ")\n",
    "\n",
    "print(d1)"
   ]
  },
  {
   "cell_type": "markdown",
   "metadata": {},
   "source": [
    "### Creating dictionaries from sequences\n",
    "\n",
    "*Alternative one*"
   ]
  },
  {
   "cell_type": "code",
   "execution_count": 26,
   "metadata": {},
   "outputs": [
    {
     "name": "stdout",
     "output_type": "stream",
     "text": [
      "{1: 'foo', 2: 'bar', 3: 'baz', 4: 'faa', 5: 'zap'}\n"
     ]
    }
   ],
   "source": [
    "mapping = {}\n",
    "\n",
    "key_list = [1, 2, 3, 4, 5]\n",
    "value_list = ['foo', 'bar', 'baz', 'faa', 'zap']\n",
    "\n",
    "for key, value in zip(key_list, value_list):\n",
    "    mapping[key] = value\n",
    "\n",
    "print(mapping)\n",
    "    "
   ]
  },
  {
   "cell_type": "markdown",
   "metadata": {},
   "source": [
    "*Alternative two*"
   ]
  },
  {
   "cell_type": "code",
   "execution_count": 27,
   "metadata": {},
   "outputs": [
    {
     "name": "stdout",
     "output_type": "stream",
     "text": [
      "{0: 4, 1: 3, 2: 2, 3: 1, 4: 0}\n"
     ]
    }
   ],
   "source": [
    "mapping = dict(zip(range(5), reversed(range(5))))\n",
    "\n",
    "print(mapping)"
   ]
  },
  {
   "cell_type": "markdown",
   "metadata": {},
   "source": [
    "### Default Values\n",
    "\n",
    "*It is very common to have a logic like this*"
   ]
  },
  {
   "cell_type": "code",
   "execution_count": 1,
   "metadata": {},
   "outputs": [
    {
     "name": "stdout",
     "output_type": "stream",
     "text": [
      "Jonas\n"
     ]
    }
   ],
   "source": [
    "some_dict = {\n",
    "    'nome': 'Jonas',\n",
    "    'sobrenome': 'Carvalho',\n",
    "    'idade': 36\n",
    "}\n",
    "\n",
    "default_value = 'Pedro'\n",
    "\n",
    "if 'nome' in some_dict:\n",
    "    value = some_dict['nome']\n",
    "else:\n",
    "    value = default_value\n",
    "\n",
    "print(value)"
   ]
  },
  {
   "cell_type": "markdown",
   "metadata": {},
   "source": [
    "*Using get and pop dictionary methods*"
   ]
  },
  {
   "cell_type": "code",
   "execution_count": 2,
   "metadata": {},
   "outputs": [
    {
     "name": "stdout",
     "output_type": "stream",
     "text": [
      "Jonas\n"
     ]
    }
   ],
   "source": [
    "value = some_dict.get('nome', default_value)\n",
    "\n",
    "print(value)"
   ]
  },
  {
   "cell_type": "code",
   "execution_count": 8,
   "metadata": {},
   "outputs": [
    {
     "name": "stdout",
     "output_type": "stream",
     "text": [
      "{'a': ['apple', 'atom', 'abba'], 'b': ['bat', 'book'], 'w': ['waine', 'world']}\n"
     ]
    }
   ],
   "source": [
    "words = ['apple', 'bat', 'waine', 'atom', 'book', 'world', 'abba']\n",
    "\n",
    "by_letter ={}\n",
    "\n",
    "for word in words:\n",
    "    letter = word[0]\n",
    "    if letter not in by_letter:\n",
    "        by_letter[letter] = [word]\n",
    "    else:\n",
    "        by_letter[letter].append(word)\n",
    "\n",
    "print(by_letter)"
   ]
  },
  {
   "cell_type": "markdown",
   "metadata": {},
   "source": [
    "*With setdefault method*"
   ]
  },
  {
   "cell_type": "code",
   "execution_count": 7,
   "metadata": {},
   "outputs": [
    {
     "name": "stdout",
     "output_type": "stream",
     "text": [
      "{'a': ['apple', 'atom', 'abba'], 'b': ['bat', 'book'], 'w': ['waine', 'world'], 'letter': ['apple', 'bat', 'waine', 'atom', 'book', 'world', 'abba']}\n"
     ]
    }
   ],
   "source": [
    "for word in words:\n",
    "    letter = word[0]\n",
    "    by_letter.setdefault('letter', []).append(word)\n",
    "\n",
    "print(by_letter)"
   ]
  },
  {
   "cell_type": "markdown",
   "metadata": {},
   "source": [
    "*With method Using the built-in collections module, defaultdict class*"
   ]
  },
  {
   "cell_type": "code",
   "execution_count": 10,
   "metadata": {},
   "outputs": [
    {
     "name": "stdout",
     "output_type": "stream",
     "text": [
      "defaultdict(<class 'list'>, {})\n",
      "defaultdict(<class 'list'>, {'a': ['apple', 'atom', 'abba'], 'b': ['bat', 'book'], 'w': ['waine', 'world']})\n"
     ]
    }
   ],
   "source": [
    "from collections import defaultdict\n",
    "\n",
    "by_letter = defaultdict(list)\n",
    "\n",
    "print(by_letter)\n",
    "\n",
    "for word in words:\n",
    "    by_letter[word[0]].append(word)\n",
    "\n",
    "print(by_letter)"
   ]
  },
  {
   "cell_type": "markdown",
   "metadata": {},
   "source": [
    "### Valid key types for dictionary\n",
    "\n",
    "*hashability*"
   ]
  },
  {
   "cell_type": "code",
   "execution_count": 22,
   "metadata": {},
   "outputs": [
    {
     "name": "stdout",
     "output_type": "stream",
     "text": [
      "-4551699750459711859\n",
      "-9209053662355515447\n"
     ]
    },
    {
     "ename": "TypeError",
     "evalue": "unhashable type: 'list'",
     "output_type": "error",
     "traceback": [
      "\u001b[0;31m---------------------------------------------------------------------------\u001b[0m",
      "\u001b[0;31mTypeError\u001b[0m                                 Traceback (most recent call last)",
      "\u001b[1;32m/home/jonas/Projetos/python/analise_de_dados/data_analysis/chapter_3/analise_de_dados.ipynb Cell 112\u001b[0m in \u001b[0;36m<cell line: 4>\u001b[0;34m()\u001b[0m\n\u001b[1;32m      <a href='vscode-notebook-cell:/home/jonas/Projetos/python/analise_de_dados/data_analysis/chapter_3/analise_de_dados.ipynb#Y216sZmlsZQ%3D%3D?line=0'>1</a>\u001b[0m \u001b[39mprint\u001b[39m(\u001b[39mhash\u001b[39m(\u001b[39m'\u001b[39m\u001b[39mstring\u001b[39m\u001b[39m'\u001b[39m))\n\u001b[1;32m      <a href='vscode-notebook-cell:/home/jonas/Projetos/python/analise_de_dados/data_analysis/chapter_3/analise_de_dados.ipynb#Y216sZmlsZQ%3D%3D?line=1'>2</a>\u001b[0m \u001b[39mprint\u001b[39m(\u001b[39mhash\u001b[39m((\u001b[39m1\u001b[39m, \u001b[39m2\u001b[39m, (\u001b[39m2\u001b[39m, \u001b[39m3\u001b[39m))))\n\u001b[0;32m----> <a href='vscode-notebook-cell:/home/jonas/Projetos/python/analise_de_dados/data_analysis/chapter_3/analise_de_dados.ipynb#Y216sZmlsZQ%3D%3D?line=3'>4</a>\u001b[0m \u001b[39mhash\u001b[39;49m((\u001b[39m1\u001b[39;49m, \u001b[39m2\u001b[39;49m, [\u001b[39m2\u001b[39;49m, \u001b[39m3\u001b[39;49m]))\n",
      "\u001b[0;31mTypeError\u001b[0m: unhashable type: 'list'"
     ]
    }
   ],
   "source": [
    "print(hash('string'))\n",
    "print(hash((1, 2, (2, 3))))\n",
    "\n",
    "hash((1, 2, [2, 3])) #Failed because lists are immutable"
   ]
  },
  {
   "cell_type": "markdown",
   "metadata": {},
   "source": [
    "*Converting list to tuple to be used as key in a dictionary*"
   ]
  },
  {
   "cell_type": "code",
   "execution_count": 23,
   "metadata": {},
   "outputs": [
    {
     "name": "stdout",
     "output_type": "stream",
     "text": [
      "{(1, 2, 3): 5}\n"
     ]
    }
   ],
   "source": [
    "d = {}\n",
    "\n",
    "d[tuple([1, 2, 3])] = 5\n",
    "\n",
    "print(d)"
   ]
  },
  {
   "cell_type": "markdown",
   "metadata": {},
   "source": [
    "### Set"
   ]
  },
  {
   "cell_type": "code",
   "execution_count": 3,
   "metadata": {},
   "outputs": [
    {
     "name": "stdout",
     "output_type": "stream",
     "text": [
      "{1, 2, 3}\n",
      "{1, 2, 3}\n"
     ]
    }
   ],
   "source": [
    "print(set([2, 2, 2, 1, 3, 3]))\n",
    "\n",
    "print({2, 2, 2, 1, 3, 3})"
   ]
  },
  {
   "cell_type": "markdown",
   "metadata": {},
   "source": [
    "*Set math operations*\n",
    "\n",
    "*Union*"
   ]
  },
  {
   "cell_type": "code",
   "execution_count": 4,
   "metadata": {},
   "outputs": [
    {
     "name": "stdout",
     "output_type": "stream",
     "text": [
      "{1, 2, 3, 4, 5, 6, 7, 8}\n",
      "{1, 2, 3, 4, 5, 6, 7, 8}\n"
     ]
    }
   ],
   "source": [
    "a = {1, 2, 3, 4, 5}\n",
    "b = {3, 4, 5, 6, 7, 8}\n",
    "\n",
    "print(a.union(b))\n",
    "print(a | b)"
   ]
  },
  {
   "cell_type": "markdown",
   "metadata": {},
   "source": [
    "*Intersection*"
   ]
  },
  {
   "cell_type": "code",
   "execution_count": 6,
   "metadata": {},
   "outputs": [
    {
     "name": "stdout",
     "output_type": "stream",
     "text": [
      "{3, 4, 5}\n",
      "{3, 4, 5}\n"
     ]
    }
   ],
   "source": [
    "print(a.intersection(b))\n",
    "print(a & b)"
   ]
  },
  {
   "cell_type": "markdown",
   "metadata": {},
   "source": [
    "*Other set methods*"
   ]
  },
  {
   "cell_type": "code",
   "execution_count": 8,
   "metadata": {},
   "outputs": [
    {
     "name": "stdout",
     "output_type": "stream",
     "text": [
      "{1, 2, 3, 4, 5, 9}\n"
     ]
    }
   ],
   "source": [
    "a.add(9)\n",
    "\n",
    "print(a)"
   ]
  },
  {
   "cell_type": "code",
   "execution_count": 13,
   "metadata": {},
   "outputs": [
    {
     "name": "stdout",
     "output_type": "stream",
     "text": [
      "set()\n",
      "{1, 2}\n",
      "{2}\n"
     ]
    }
   ],
   "source": [
    "c = {2, 3, 5, 7}\n",
    "c.clear()\n",
    "\n",
    "print(c)\n",
    "\n",
    "c.add(1)\n",
    "c.add(2)\n",
    "\n",
    "print(c)\n",
    "\n",
    "c.remove(1)\n",
    "\n",
    "print(c)"
   ]
  },
  {
   "cell_type": "code",
   "execution_count": 22,
   "metadata": {},
   "outputs": [
    {
     "name": "stdout",
     "output_type": "stream",
     "text": [
      "{3, 4, 5, 7, 8, 9}\n"
     ]
    }
   ],
   "source": [
    "d = {2, 3, 4, 5, 7, 8, 9}\n",
    "\n",
    "d.pop()\n",
    "\n",
    "print(d)"
   ]
  },
  {
   "cell_type": "code",
   "execution_count": 33,
   "metadata": {},
   "outputs": [
    {
     "name": "stdout",
     "output_type": "stream",
     "text": [
      "{2, 3}\n",
      "{2, 3}\n"
     ]
    }
   ],
   "source": [
    "d = {1, 2, 3}\n",
    "e = {4, 5, 6, 2, 3}\n",
    "\n",
    "d.intersection_update(e)\n",
    "\n",
    "print(d)"
   ]
  },
  {
   "cell_type": "code",
   "execution_count": 59,
   "metadata": {},
   "outputs": [
    {
     "name": "stdout",
     "output_type": "stream",
     "text": [
      "{2, 3}\n"
     ]
    }
   ],
   "source": [
    "d = {1, 2, 3}\n",
    "e = {4, 5, 6, 2, 3}\n",
    "\n",
    "d &= e\n",
    "\n",
    "print(d)"
   ]
  },
  {
   "cell_type": "code",
   "execution_count": 37,
   "metadata": {},
   "outputs": [
    {
     "name": "stdout",
     "output_type": "stream",
     "text": [
      "{1, 2, 3}\n"
     ]
    }
   ],
   "source": [
    "f = {2, 1, 2}\n",
    "g = {3, 2, 1}\n",
    "\n",
    "f.update(g)\n",
    "\n",
    "print(f)"
   ]
  },
  {
   "cell_type": "code",
   "execution_count": 60,
   "metadata": {},
   "outputs": [
    {
     "name": "stdout",
     "output_type": "stream",
     "text": [
      "{1, 2, 3}\n"
     ]
    }
   ],
   "source": [
    "f = {2, 1, 2}\n",
    "g = {3, 2, 1}\n",
    "\n",
    "f |=g\n",
    "\n",
    "print(f)"
   ]
  },
  {
   "cell_type": "code",
   "execution_count": 45,
   "metadata": {},
   "outputs": [
    {
     "name": "stdout",
     "output_type": "stream",
     "text": [
      "{3, 5}\n",
      "{3, 5}\n"
     ]
    }
   ],
   "source": [
    "ab = {2, 3, 4, 5, 6}\n",
    "cd = {2, 4, 1, 7, 6, 8}\n",
    "\n",
    "print(ab.difference(cd))\n",
    "print(ab - cd)"
   ]
  },
  {
   "cell_type": "code",
   "execution_count": 57,
   "metadata": {},
   "outputs": [
    {
     "name": "stdout",
     "output_type": "stream",
     "text": [
      "{3, 5}\n"
     ]
    }
   ],
   "source": [
    "de = {2, 3, 4, 5, 6}\n",
    "ed = {2, 4, 1, 7, 6, 8}\n",
    "\n",
    "de.difference_update(ed)\n",
    "\n",
    "print(de)"
   ]
  },
  {
   "cell_type": "code",
   "execution_count": 56,
   "metadata": {},
   "outputs": [
    {
     "name": "stdout",
     "output_type": "stream",
     "text": [
      "{3, 5}\n"
     ]
    }
   ],
   "source": [
    "de = {2, 3, 4, 5, 6}\n",
    "ed = {2, 4, 1, 7, 6, 8}\n",
    "\n",
    "de -= ed\n",
    "\n",
    "print(de)"
   ]
  },
  {
   "cell_type": "code",
   "execution_count": 61,
   "metadata": {},
   "outputs": [
    {
     "name": "stdout",
     "output_type": "stream",
     "text": [
      "{2, 3, 4, 5, 6}\n"
     ]
    }
   ],
   "source": [
    "de = {2, 3, 4, 5, 6}\n",
    "ed = {2, 4, 1, 7, 6, 8}\n",
    "\n",
    "de.symmetric_difference(ed)\n",
    "\n",
    "print(de)"
   ]
  },
  {
   "cell_type": "code",
   "execution_count": 62,
   "metadata": {},
   "outputs": [
    {
     "name": "stdout",
     "output_type": "stream",
     "text": [
      "{2, 3, 4, 5, 6}\n"
     ]
    }
   ],
   "source": [
    "de = {2, 3, 4, 5, 6}\n",
    "ed = {2, 4, 1, 7, 6, 8}\n",
    "\n",
    "de ^ ed\n",
    "\n",
    "print(de)"
   ]
  },
  {
   "cell_type": "code",
   "execution_count": 55,
   "metadata": {},
   "outputs": [
    {
     "name": "stdout",
     "output_type": "stream",
     "text": [
      "{1, 3, 5, 7, 8}\n"
     ]
    }
   ],
   "source": [
    "de = {2, 3, 4, 5, 6}\n",
    "ed = {2, 4, 1, 7, 6, 8}\n",
    "\n",
    "de.symmetric_difference_update(ed)\n",
    "\n",
    "print(de)"
   ]
  },
  {
   "cell_type": "code",
   "execution_count": 54,
   "metadata": {},
   "outputs": [
    {
     "name": "stdout",
     "output_type": "stream",
     "text": [
      "{1, 3, 5, 7, 8}\n"
     ]
    }
   ],
   "source": [
    "de = {2, 3, 4, 5, 6}\n",
    "ed = {2, 4, 1, 7, 6, 8}\n",
    "\n",
    "de ^= ed \n",
    "\n",
    "print(de)"
   ]
  },
  {
   "cell_type": "code",
   "execution_count": 63,
   "metadata": {},
   "outputs": [
    {
     "name": "stdout",
     "output_type": "stream",
     "text": [
      "False\n"
     ]
    }
   ],
   "source": [
    "de = {2, 3, 4, 5, 6}\n",
    "ed = {2, 4, 1, 7, 6, 8}\n",
    "\n",
    "print(de.issubset(ed))"
   ]
  },
  {
   "cell_type": "code",
   "execution_count": 64,
   "metadata": {},
   "outputs": [
    {
     "name": "stdout",
     "output_type": "stream",
     "text": [
      "True\n"
     ]
    }
   ],
   "source": [
    "de = {2, 3, 4, 5, 6}\n",
    "ed = {2, 3, 4, 5, 6, 7, 9, 8}\n",
    "\n",
    "print(de.issubset(ed))"
   ]
  },
  {
   "cell_type": "code",
   "execution_count": 65,
   "metadata": {},
   "outputs": [
    {
     "name": "stdout",
     "output_type": "stream",
     "text": [
      "False\n"
     ]
    }
   ],
   "source": [
    "de = {2, 3, 4, 5, 6}\n",
    "ed = {2, 4, 1, 7, 6, 8}\n",
    "\n",
    "print(de.issuperset(ed))"
   ]
  },
  {
   "cell_type": "code",
   "execution_count": 66,
   "metadata": {},
   "outputs": [
    {
     "name": "stdout",
     "output_type": "stream",
     "text": [
      "True\n"
     ]
    }
   ],
   "source": [
    "de = {2, 3, 4, 5, 6}\n",
    "ed = {2, 3, 4, 5, 6, 7, 9, 8}\n",
    "\n",
    "print(de.issubset(ed))"
   ]
  },
  {
   "cell_type": "code",
   "execution_count": 67,
   "metadata": {},
   "outputs": [
    {
     "name": "stdout",
     "output_type": "stream",
     "text": [
      "False\n"
     ]
    }
   ],
   "source": [
    "de = {2, 3, 4, 5, 6}\n",
    "ed = {2, 3, 4, 5, 6, 7, 9, 8}\n",
    "\n",
    "print(de.isdisjoint(ed))"
   ]
  },
  {
   "cell_type": "code",
   "execution_count": 68,
   "metadata": {},
   "outputs": [
    {
     "name": "stdout",
     "output_type": "stream",
     "text": [
      "True\n"
     ]
    }
   ],
   "source": [
    "de = {12, 23, 34, 45, 56}\n",
    "ed = {2, 3, 4, 5, 6, 7, 9, 8}\n",
    "\n",
    "print(de.isdisjoint(ed))"
   ]
  },
  {
   "cell_type": "code",
   "execution_count": 70,
   "metadata": {},
   "outputs": [
    {
     "name": "stdout",
     "output_type": "stream",
     "text": [
      "{1, 2, 3, 4, 5, 6, 7, 8, 9}\n",
      "{2, 5}\n"
     ]
    }
   ],
   "source": [
    "k = {1, 2, 5, 9, 8, 7, 6}\n",
    "l = {2, 3, 5, 4}\n",
    "\n",
    "m = k.copy()\n",
    "\n",
    "m |= l\n",
    "\n",
    "print(m)\n",
    "\n",
    "n = k.copy()\n",
    "\n",
    "n &= l\n",
    "\n",
    "print(n)"
   ]
  },
  {
   "cell_type": "code",
   "execution_count": 71,
   "metadata": {},
   "outputs": [
    {
     "name": "stdout",
     "output_type": "stream",
     "text": [
      "{(1, 2, 3, 4)}\n"
     ]
    }
   ],
   "source": [
    "my_data = [1, 2, 3, 4]\n",
    "\n",
    "my_set = {tuple(my_data)}\n",
    "\n",
    "print(my_set)"
   ]
  },
  {
   "cell_type": "code",
   "execution_count": 72,
   "metadata": {},
   "outputs": [
    {
     "name": "stdout",
     "output_type": "stream",
     "text": [
      "True\n"
     ]
    }
   ],
   "source": [
    "a_set = {1, 2, 3, 4, 5}\n",
    "\n",
    "print({1, 2, 3}.issubset(a_set))"
   ]
  },
  {
   "cell_type": "code",
   "execution_count": 73,
   "metadata": {},
   "outputs": [
    {
     "name": "stdout",
     "output_type": "stream",
     "text": [
      "True\n"
     ]
    }
   ],
   "source": [
    "print(a_set.issuperset({1, 2, 3}))"
   ]
  },
  {
   "cell_type": "code",
   "execution_count": 74,
   "metadata": {},
   "outputs": [
    {
     "name": "stdout",
     "output_type": "stream",
     "text": [
      "True\n"
     ]
    }
   ],
   "source": [
    "print({1, 2, 3} == {1, 2, 3})"
   ]
  },
  {
   "cell_type": "markdown",
   "metadata": {},
   "source": [
    "### List, set e dict comprehensions\n",
    "\n",
    "*List comprehensions*"
   ]
  },
  {
   "cell_type": "code",
   "execution_count": 2,
   "metadata": {},
   "outputs": [
    {
     "data": {
      "text/plain": [
       "['BAT', 'CAR', 'DOVE', 'PYTHON']"
      ]
     },
     "execution_count": 2,
     "metadata": {},
     "output_type": "execute_result"
    }
   ],
   "source": [
    "strings = ['a', 'as', 'bat', 'car', 'dove', 'python']\n",
    "\n",
    "[x.upper() for x in strings if len(x) > 2]"
   ]
  },
  {
   "cell_type": "markdown",
   "metadata": {},
   "source": [
    "*Set e dict*"
   ]
  },
  {
   "cell_type": "code",
   "execution_count": 3,
   "metadata": {},
   "outputs": [
    {
     "name": "stdout",
     "output_type": "stream",
     "text": [
      "{1, 2, 3, 4, 6}\n"
     ]
    }
   ],
   "source": [
    "unique_lenghts = {len(x) for x in strings}\n",
    "\n",
    "print(unique_lenghts)"
   ]
  },
  {
   "cell_type": "markdown",
   "metadata": {},
   "source": [
    "*Using map*"
   ]
  },
  {
   "cell_type": "code",
   "execution_count": 4,
   "metadata": {},
   "outputs": [
    {
     "name": "stdout",
     "output_type": "stream",
     "text": [
      "{1, 2, 3, 4, 6}\n"
     ]
    }
   ],
   "source": [
    "print(set(map(len, strings)))"
   ]
  },
  {
   "cell_type": "code",
   "execution_count": 5,
   "metadata": {},
   "outputs": [
    {
     "name": "stdout",
     "output_type": "stream",
     "text": [
      "{'a': 0, 'as': 1, 'bat': 2, 'car': 3, 'dove': 4, 'python': 5}\n"
     ]
    }
   ],
   "source": [
    "loc_mapping = {val : index for index, val in enumerate(strings)}\n",
    "print(loc_mapping)"
   ]
  },
  {
   "cell_type": "markdown",
   "metadata": {},
   "source": [
    "*Nested list comprehensions*"
   ]
  },
  {
   "cell_type": "code",
   "execution_count": 6,
   "metadata": {},
   "outputs": [
    {
     "name": "stdout",
     "output_type": "stream",
     "text": [
      "['Steven']\n"
     ]
    }
   ],
   "source": [
    "all_data = [['John', 'Emily', 'Michael', 'Mary', 'Steven'],\n",
    "            ['Maria', 'Juan', 'Javier', 'Natalia', 'Pillar']]\n",
    "\n",
    "name_of_interest = []\n",
    "\n",
    "for names in all_data:\n",
    "    enought_es = [name for name in names if name.count('e') >= 2]\n",
    "    name_of_interest.extend(enought_es)\n",
    "\n",
    "print(name_of_interest)\n"
   ]
  },
  {
   "cell_type": "markdown",
   "metadata": {},
   "source": [
    "*Encapsulating*"
   ]
  },
  {
   "cell_type": "code",
   "execution_count": 8,
   "metadata": {},
   "outputs": [
    {
     "name": "stdout",
     "output_type": "stream",
     "text": [
      "['Steven']\n"
     ]
    }
   ],
   "source": [
    "result = [name for names in all_data for name in names\n",
    "            if name.count('e') >= 2]\n",
    "\n",
    "print(result)"
   ]
  },
  {
   "cell_type": "code",
   "execution_count": 9,
   "metadata": {},
   "outputs": [
    {
     "name": "stdout",
     "output_type": "stream",
     "text": [
      "[1, 2, 3, 4, 5, 6, 7, 8, 9]\n"
     ]
    }
   ],
   "source": [
    "some_tuples = [(1, 2, 3), (4, 5, 6), (7, 8, 9)]\n",
    "\n",
    "flattened = [x for tup in some_tuples for x in tup]\n",
    "\n",
    "print(flattened)"
   ]
  },
  {
   "cell_type": "code",
   "execution_count": 10,
   "metadata": {},
   "outputs": [
    {
     "name": "stdout",
     "output_type": "stream",
     "text": [
      "[[1, 2, 3], [4, 5, 6], [7, 8, 9]]\n"
     ]
    }
   ],
   "source": [
    "print([[x for x in tup] for tup in some_tuples])"
   ]
  },
  {
   "cell_type": "markdown",
   "metadata": {},
   "source": [
    "### Fuctions"
   ]
  },
  {
   "cell_type": "code",
   "execution_count": 5,
   "metadata": {},
   "outputs": [
    {
     "name": "stdout",
     "output_type": "stream",
     "text": [
      "0.06363636363636363\n",
      "36.4\n",
      "45.0\n",
      "77\n",
      "77\n"
     ]
    }
   ],
   "source": [
    "def my_function(x, y, z=1.5):\n",
    "    if z > 1:\n",
    "        return z * (x + y)\n",
    "    else:\n",
    "        return z / (x + y)\n",
    "\n",
    "print(my_function(5, 6, z=0.7))\n",
    "print(my_function(3.4, 7, 3.5))\n",
    "print(my_function(10, 20))\n",
    "print(my_function(x=5, y=6, z=7))\n",
    "print(my_function(y=6, x=5, z=7))"
   ]
  },
  {
   "cell_type": "markdown",
   "metadata": {},
   "source": [
    "### Namespace"
   ]
  },
  {
   "cell_type": "code",
   "execution_count": 11,
   "metadata": {},
   "outputs": [
    {
     "name": "stdout",
     "output_type": "stream",
     "text": [
      "[]\n",
      "[0, 1, 2, 3, 4]\n"
     ]
    }
   ],
   "source": [
    "a = []\n",
    "\n",
    "\n",
    "def func():\n",
    "    a = []\n",
    "    for i in range(5):\n",
    "        a.append(i)\n",
    "    print(a)\n",
    "\n",
    "    # print(a)\n",
    "\n",
    "\n",
    "def func2():\n",
    "    a = []\n",
    "    for i in range(5):\n",
    "        a.append(i)\n",
    "\n",
    "print(a)\n",
    "\n",
    "\n",
    "func()\n",
    "func2()"
   ]
  },
  {
   "cell_type": "markdown",
   "metadata": {},
   "source": [
    "### global"
   ]
  },
  {
   "cell_type": "code",
   "execution_count": 12,
   "metadata": {},
   "outputs": [
    {
     "name": "stdout",
     "output_type": "stream",
     "text": [
      "[]\n"
     ]
    }
   ],
   "source": [
    "a = None\n",
    "\n",
    "def bind_a_variable():\n",
    "    global a \n",
    "\n",
    "    a = []\n",
    "\n",
    "bind_a_variable()\n",
    "\n",
    "print(a)"
   ]
  },
  {
   "cell_type": "markdown",
   "metadata": {},
   "source": [
    "### Returning several values"
   ]
  },
  {
   "cell_type": "code",
   "execution_count": 14,
   "metadata": {},
   "outputs": [
    {
     "name": "stdout",
     "output_type": "stream",
     "text": [
      "5 6 7\n",
      "(5, 6, 7)\n"
     ]
    }
   ],
   "source": [
    "def f():\n",
    "    a = 5 \n",
    "    b = 6\n",
    "    c = 7\n",
    "\n",
    "    return a, b, c\n",
    "\n",
    "return_value = f()\n",
    "\n",
    "a, b, c = f()\n",
    "\n",
    "print(a, b, c)\n",
    "print(return_value)"
   ]
  },
  {
   "cell_type": "markdown",
   "metadata": {},
   "source": [
    "### Dictionaries"
   ]
  },
  {
   "cell_type": "code",
   "execution_count": 15,
   "metadata": {},
   "outputs": [
    {
     "name": "stdout",
     "output_type": "stream",
     "text": [
      "{'a': 5, 'b': 6, 'c': 7}\n"
     ]
    }
   ],
   "source": [
    "def g():\n",
    "    a = 5 \n",
    "    b = 6\n",
    "    c = 7\n",
    "\n",
    "    return {\n",
    "            'a': a, \n",
    "            'b': b, \n",
    "            'c': c \n",
    "        }\n",
    "\n",
    "values = g()\n",
    "print(values)"
   ]
  },
  {
   "cell_type": "markdown",
   "metadata": {},
   "source": [
    "### Functions are objects and we can do a series of transformations with them"
   ]
  },
  {
   "cell_type": "code",
   "execution_count": 16,
   "metadata": {},
   "outputs": [
    {
     "name": "stdout",
     "output_type": "stream",
     "text": [
      "['Alabama', 'Georgia', 'Georgia', 'Georgia', 'Florida', 'South Carolina', 'West Virginia']\n"
     ]
    }
   ],
   "source": [
    "import re\n",
    "\n",
    "states = ['Alabama', 'Georgia!', 'Georgia', 'georgia', 'FlOrIda', 'south    carolina##', 'West virginia?']\n",
    "\n",
    "def clean_strings(strings):\n",
    "    result = []\n",
    "    \n",
    "    for value in strings:\n",
    "        value = value.strip()\n",
    "        value = re.sub('[!#?]', '', value)\n",
    "        value = value.title()\n",
    "        result.append(value)\n",
    "\n",
    "    return result\n",
    "\n",
    "result = clean_strings(strings=states)\n",
    "\n",
    "print(result)\n"
   ]
  },
  {
   "cell_type": "code",
   "execution_count": 18,
   "metadata": {},
   "outputs": [
    {
     "name": "stdout",
     "output_type": "stream",
     "text": [
      "['Alabama', 'Georgia', 'Georgia', 'Georgia', 'Florida', 'South Carolina', 'West Virginia']\n"
     ]
    }
   ],
   "source": [
    "def remove_pontuation(value):\n",
    "    return re.sub('[!#?]', '', value)\n",
    "\n",
    "clean_ops = [str.strip, remove_pontuation, str.title]\n",
    "\n",
    "def clean_strings(strings, ops):\n",
    "    result = []\n",
    "\n",
    "    for value in strings:\n",
    "        for function in ops:\n",
    "            value = function(value)\n",
    "        result.append(value)\n",
    "\n",
    "    return result\n",
    "\n",
    "\n",
    "response = clean_strings(states, clean_ops)\n",
    "print(response)"
   ]
  },
  {
   "cell_type": "markdown",
   "metadata": {},
   "source": [
    "### Passing functions as parameters"
   ]
  },
  {
   "cell_type": "code",
   "execution_count": 30,
   "metadata": {},
   "outputs": [
    {
     "name": "stdout",
     "output_type": "stream",
     "text": [
      "['Alabama']\n",
      "['Georgia']\n",
      "['Georgia']\n",
      "['georgia']\n",
      "['FlOrIda']\n",
      "['south carolina']\n",
      "['West virginia']\n"
     ]
    }
   ],
   "source": [
    "for x in map(remove_pontuation, states):\n",
    "    z = []\n",
    "    z.append(x)\n",
    "    print(z)"
   ]
  },
  {
   "cell_type": "markdown",
   "metadata": {},
   "source": [
    "### Anonymous functions (lambdas)"
   ]
  },
  {
   "cell_type": "code",
   "execution_count": 2,
   "metadata": {},
   "outputs": [
    {
     "name": "stdout",
     "output_type": "stream",
     "text": [
      "[8, 0, 2, 10, 12]\n",
      "[8, 0, 2, 10, 12]\n"
     ]
    }
   ],
   "source": [
    "def apply_to_list(some_list, f):\n",
    "    return [f(x) for x in some_list]\n",
    "\n",
    "ints = [4, 0, 1, 5, 6]\n",
    "\n",
    "print(apply_to_list(ints, lambda x: x * 2))\n",
    "\n",
    "print([x *2 for x in ints])"
   ]
  },
  {
   "cell_type": "code",
   "execution_count": 7,
   "metadata": {},
   "outputs": [
    {
     "name": "stdout",
     "output_type": "stream",
     "text": [
      "['aaaa', 'foo', 'abab', 'bar', 'card']\n"
     ]
    }
   ],
   "source": [
    "strings =  ['foo', 'card', 'bar', 'aaaa', 'abab']\n",
    "\n",
    "strings.sort(key=lambda x: len(set(list(x))))\n",
    "\n",
    "print(strings)"
   ]
  },
  {
   "cell_type": "code",
   "execution_count": 28,
   "metadata": {},
   "outputs": [
    {
     "name": "stdout",
     "output_type": "stream",
     "text": [
      "10 12\n"
     ]
    }
   ],
   "source": [
    "from functools import partial\n",
    "\n",
    "def add_numbers(x, y):\n",
    "    return x + y\n",
    "\n",
    "add_five = lambda y: add_numbers(5, y)\n",
    "\n",
    "add_five2 = partial(add_numbers, 5)\n",
    "print(add_five2(y=5), add_five(y=7))"
   ]
  },
  {
   "cell_type": "markdown",
   "metadata": {},
   "source": [
    "### Generators"
   ]
  },
  {
   "cell_type": "code",
   "execution_count": 29,
   "metadata": {},
   "outputs": [
    {
     "name": "stdout",
     "output_type": "stream",
     "text": [
      "a\n",
      "b\n",
      "c\n"
     ]
    }
   ],
   "source": [
    "some_dict = {\n",
    "    'a': 1,\n",
    "    'b': 2,\n",
    "    'c': 3\n",
    "}\n",
    "\n",
    "for key in some_dict:\n",
    "    print(key)"
   ]
  },
  {
   "cell_type": "code",
   "execution_count": 43,
   "metadata": {},
   "outputs": [
    {
     "name": "stdout",
     "output_type": "stream",
     "text": [
      "['a', 'b', 'c']\n",
      "<dict_keyiterator object at 0x7f14df592ca0>\n"
     ]
    }
   ],
   "source": [
    "dict_iterator = iter(some_dict)\n",
    "\n",
    "print(list(dict_iterator))\n",
    "\n",
    "\n",
    "print(dict_iterator)\n",
    "\n",
    "for value in dict_iterator:\n",
    "    print(value)\n",
    "\n",
    "\n"
   ]
  },
  {
   "cell_type": "markdown",
   "metadata": {},
   "source": [
    "### Squares"
   ]
  },
  {
   "cell_type": "code",
   "execution_count": 53,
   "metadata": {},
   "outputs": [
    {
     "name": "stdout",
     "output_type": "stream",
     "text": [
      "<generator object squares at 0x7f14df4bdcb0>\n",
      "Generating squares from 1 to 100\n",
      "1 4 9 16 25 36 49 64 81 100 "
     ]
    }
   ],
   "source": [
    "def squares(n=10):\n",
    "    print('Generating squares from 1 to {0}'.format(n ** 2))\n",
    "    for i in range(1, n + 1):\n",
    "        yield i ** 2\n",
    "\n",
    "gen = squares()\n",
    "\n",
    "print(gen)\n",
    "\n",
    "for x in gen:\n",
    "    print(x, end=' ')"
   ]
  },
  {
   "cell_type": "markdown",
   "metadata": {},
   "source": [
    "### Methods itertools"
   ]
  }
 ],
 "metadata": {
  "kernelspec": {
   "display_name": "Python 3.8.10 ('env': venv)",
   "language": "python",
   "name": "python3"
  },
  "language_info": {
   "codemirror_mode": {
    "name": "ipython",
    "version": 3
   },
   "file_extension": ".py",
   "mimetype": "text/x-python",
   "name": "python",
   "nbconvert_exporter": "python",
   "pygments_lexer": "ipython3",
   "version": "3.10.4"
  },
  "orig_nbformat": 4,
  "vscode": {
   "interpreter": {
    "hash": "37a2f52c0de4fac81a0bf58b0010a52fc5b6297355ab373e5af9e6d22cada09b"
   }
  }
 },
 "nbformat": 4,
 "nbformat_minor": 2
}
