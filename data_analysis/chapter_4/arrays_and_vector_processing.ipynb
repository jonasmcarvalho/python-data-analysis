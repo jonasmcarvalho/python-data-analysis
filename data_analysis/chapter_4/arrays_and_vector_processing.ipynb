{
 "cells": [
  {
   "cell_type": "markdown",
   "metadata": {},
   "source": [
    "# Arrays and vector processing"
   ]
  },
  {
   "cell_type": "code",
   "execution_count": 3,
   "metadata": {},
   "outputs": [
    {
     "name": "stdout",
     "output_type": "stream",
     "text": [
      "<class 'numpy.ndarray'> <- my_arr\n",
      "<class 'list'> <- my_list\n",
      "CPU times: user 25.6 ms, sys: 1.22 ms, total: 26.8 ms\n",
      "Wall time: 27.2 ms\n",
      "CPU times: user 762 ms, sys: 89.4 ms, total: 852 ms\n",
      "Wall time: 852 ms\n"
     ]
    }
   ],
   "source": [
    "import numpy as np\n",
    "\n",
    "my_arr = np.arange(1000000)\n",
    "my_list = list(range(1000000))\n",
    "\n",
    "print(type(my_arr), '<- my_arr')\n",
    "print(type(my_list), '<- my_list')\n",
    "\n",
    "%time for _ in range(10): my_arr2 = my_arr * 2\n",
    "\n",
    "%time for _ in range(10): my_list2 = [x * 2 for x in my_list]\n"
   ]
  },
  {
   "cell_type": "markdown",
   "metadata": {},
   "source": [
    "##### NumPy's ndarray: A multidimensional object\n",
    "\n",
    "*Mathematical Operations in Blocks*"
   ]
  },
  {
   "cell_type": "code",
   "execution_count": 20,
   "metadata": {},
   "outputs": [
    {
     "name": "stdout",
     "output_type": "stream",
     "text": [
      "[[-0.30695411  1.23452821  0.08929974]\n",
      " [ 1.94556712 -0.43770656  0.42619785]] <- data_raw\n",
      "[[-3.0695411  12.34528213  0.89299737]\n",
      " [19.4556712  -4.37706559  4.26197855]] <- multiplied for 10\n",
      "[[ 9.69304589 11.23452821 10.08929974]\n",
      " [11.94556712  9.56229344 10.42619785]] <- added 10\n",
      "(2, 3)\n",
      "float64\n",
      "<class 'numpy.ndarray'>\n",
      "float64\n"
     ]
    }
   ],
   "source": [
    "import numpy as np\n",
    "\n",
    "#Array of random data\n",
    "data = np.random.randn(2, 3)\n",
    "print(data, '<- data_raw')\n",
    "\n",
    "data_multiplied_for_10 = data * 10\n",
    "print(data_multiplied_for_10, '<- multiplied for 10')\n",
    "\n",
    "data_added_for_10 = data + 10\n",
    "print(data_added_for_10, '<- added 10')\n",
    "\n",
    "print(data.shape)\n",
    "print(data.dtype)\n",
    "print(type(data))\n",
    "print(data.dtype)\n"
   ]
  },
  {
   "cell_type": "markdown",
   "metadata": {},
   "source": [
    "##### Creating arrays\n",
    "\n",
    "*Function np.array()*"
   ]
  },
  {
   "cell_type": "code",
   "execution_count": 22,
   "metadata": {},
   "outputs": [
    {
     "data": {
      "text/plain": [
       "array([6. , 7.5, 8. , 0. , 1. ])"
      ]
     },
     "execution_count": 22,
     "metadata": {},
     "output_type": "execute_result"
    }
   ],
   "source": [
    "data1 = [6, 7.5, 8, 0, 1]\n",
    "\n",
    "arr1 = np.array(data1)\n",
    "\n",
    "arr1"
   ]
  },
  {
   "cell_type": "code",
   "execution_count": 23,
   "metadata": {},
   "outputs": [
    {
     "data": {
      "text/plain": [
       "array([[1, 2, 3, 4],\n",
       "       [5, 6, 7, 8]])"
      ]
     },
     "execution_count": 23,
     "metadata": {},
     "output_type": "execute_result"
    }
   ],
   "source": [
    "data2 = [[1, 2, 3, 4], [5, 6, 7, 8]]\n",
    "\n",
    "arr2 = np.array(data2)\n",
    "\n",
    "arr2"
   ]
  },
  {
   "cell_type": "code",
   "execution_count": 32,
   "metadata": {},
   "outputs": [
    {
     "name": "stdout",
     "output_type": "stream",
     "text": [
      "2 <- arr2\n",
      "(2, 4) <- arr2\n",
      "float64 <- arr1\n",
      "int64 <- arr2\n"
     ]
    }
   ],
   "source": [
    "print(arr2.ndim, '<- arr2')\n",
    "print(arr2.shape, '<- arr2')\n",
    "\n",
    "print(arr1.dtype, '<- arr1')\n",
    "print(arr2.dtype, '<- arr2')"
   ]
  },
  {
   "cell_type": "markdown",
   "metadata": {},
   "source": [
    "##### Method zeros, ones and empty"
   ]
  },
  {
   "cell_type": "code",
   "execution_count": 33,
   "metadata": {},
   "outputs": [
    {
     "data": {
      "text/plain": [
       "array([0., 0., 0., 0., 0., 0., 0., 0., 0., 0.])"
      ]
     },
     "execution_count": 33,
     "metadata": {},
     "output_type": "execute_result"
    }
   ],
   "source": [
    "np.zeros(10)"
   ]
  },
  {
   "cell_type": "markdown",
   "metadata": {},
   "source": [
    "*Pass a tuple to arrays with larger dimensions*"
   ]
  },
  {
   "cell_type": "code",
   "execution_count": 34,
   "metadata": {},
   "outputs": [
    {
     "data": {
      "text/plain": [
       "array([[0., 0.],\n",
       "       [0., 0.],\n",
       "       [0., 0.]])"
      ]
     },
     "execution_count": 34,
     "metadata": {},
     "output_type": "execute_result"
    }
   ],
   "source": [
    "np.zeros((3, 2))"
   ]
  },
  {
   "cell_type": "code",
   "execution_count": 42,
   "metadata": {},
   "outputs": [
    {
     "data": {
      "text/plain": [
       "array([[[4.67980513e-310, 0.00000000e+000],\n",
       "        [0.00000000e+000, 0.00000000e+000],\n",
       "        [2.12199579e-313, 2.21468802e-052]],\n",
       "\n",
       "       [[1.53356532e-075, 2.19209875e-056],\n",
       "        [4.31875102e-061, 7.96528258e-042],\n",
       "        [1.54767774e+185, 1.82992025e-076]]])"
      ]
     },
     "execution_count": 42,
     "metadata": {},
     "output_type": "execute_result"
    }
   ],
   "source": [
    "np.empty((2, 3, 2))"
   ]
  },
  {
   "cell_type": "markdown",
   "metadata": {},
   "source": [
    "*Method np.range()*"
   ]
  },
  {
   "cell_type": "code",
   "execution_count": 43,
   "metadata": {},
   "outputs": [
    {
     "data": {
      "text/plain": [
       "array([ 0,  1,  2,  3,  4,  5,  6,  7,  8,  9, 10, 11, 12, 13, 14])"
      ]
     },
     "execution_count": 43,
     "metadata": {},
     "output_type": "execute_result"
    }
   ],
   "source": [
    "np.arange(15)"
   ]
  }
 ],
 "metadata": {
  "kernelspec": {
   "display_name": "Python 3.10.6 ('env': venv)",
   "language": "python",
   "name": "python3"
  },
  "language_info": {
   "codemirror_mode": {
    "name": "ipython",
    "version": 3
   },
   "file_extension": ".py",
   "mimetype": "text/x-python",
   "name": "python",
   "nbconvert_exporter": "python",
   "pygments_lexer": "ipython3",
   "version": "3.10.6"
  },
  "orig_nbformat": 4,
  "vscode": {
   "interpreter": {
    "hash": "37a2f52c0de4fac81a0bf58b0010a52fc5b6297355ab373e5af9e6d22cada09b"
   }
  }
 },
 "nbformat": 4,
 "nbformat_minor": 2
}
